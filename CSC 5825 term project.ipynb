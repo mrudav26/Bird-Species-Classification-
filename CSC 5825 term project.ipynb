{
  "cells": [
    {
      "cell_type": "code",
      "execution_count": 2,
      "metadata": {
        "id": "zRbojKvBnCZq"
      },
      "outputs": [],
      "source": [
        "import tensorflow as tf\n",
        "import tensorboard\n",
        "import pandas as pd\n",
        "import numpy as np\n",
        "import matplotlib.pyplot as plt\n",
        "import PIL\n",
        "from random import sample, seed"
      ]
    },
    {
      "cell_type": "markdown",
      "metadata": {
        "id": "-xaIkogkm-sO"
      },
      "source": [
        "Data Loading Section"
      ]
    },
    {
      "cell_type": "code",
      "execution_count": 16,
      "metadata": {
        "id": "ZwSXRfu9_CfW"
      },
      "outputs": [],
      "source": [
        "#Data Loading\n",
        "\n",
        "df = pd.read_csv(\"birds.csv\")"
      ]
    },
    {
      "cell_type": "code",
      "execution_count": 3,
      "metadata": {
        "colab": {
          "base_uri": "https://localhost:8080/",
          "height": 206
        },
        "id": "1yqgYzid6Tj6",
        "outputId": "ebf2d09f-ecc4-4a8d-c7ab-3b4c7ccac2a3"
      },
      "outputs": [
        {
          "data": {
            "text/html": [
              "<div>\n",
              "<style scoped>\n",
              "    .dataframe tbody tr th:only-of-type {\n",
              "        vertical-align: middle;\n",
              "    }\n",
              "\n",
              "    .dataframe tbody tr th {\n",
              "        vertical-align: top;\n",
              "    }\n",
              "\n",
              "    .dataframe thead th {\n",
              "        text-align: right;\n",
              "    }\n",
              "</style>\n",
              "<table border=\"1\" class=\"dataframe\">\n",
              "  <thead>\n",
              "    <tr style=\"text-align: right;\">\n",
              "      <th></th>\n",
              "      <th>class id</th>\n",
              "      <th>filepaths</th>\n",
              "      <th>labels</th>\n",
              "      <th>data set</th>\n",
              "      <th>scientific name</th>\n",
              "    </tr>\n",
              "  </thead>\n",
              "  <tbody>\n",
              "    <tr>\n",
              "      <th>0</th>\n",
              "      <td>0</td>\n",
              "      <td>train/ABBOTTS BABBLER/001.jpg</td>\n",
              "      <td>ABBOTTS BABBLER</td>\n",
              "      <td>train</td>\n",
              "      <td>MALACOCINCLA ABBOTTI</td>\n",
              "    </tr>\n",
              "    <tr>\n",
              "      <th>1</th>\n",
              "      <td>0</td>\n",
              "      <td>train/ABBOTTS BABBLER/002.jpg</td>\n",
              "      <td>ABBOTTS BABBLER</td>\n",
              "      <td>train</td>\n",
              "      <td>MALACOCINCLA ABBOTTI</td>\n",
              "    </tr>\n",
              "    <tr>\n",
              "      <th>2</th>\n",
              "      <td>0</td>\n",
              "      <td>train/ABBOTTS BABBLER/003.jpg</td>\n",
              "      <td>ABBOTTS BABBLER</td>\n",
              "      <td>train</td>\n",
              "      <td>MALACOCINCLA ABBOTTI</td>\n",
              "    </tr>\n",
              "    <tr>\n",
              "      <th>3</th>\n",
              "      <td>0</td>\n",
              "      <td>train/ABBOTTS BABBLER/004.jpg</td>\n",
              "      <td>ABBOTTS BABBLER</td>\n",
              "      <td>train</td>\n",
              "      <td>MALACOCINCLA ABBOTTI</td>\n",
              "    </tr>\n",
              "    <tr>\n",
              "      <th>4</th>\n",
              "      <td>0</td>\n",
              "      <td>train/ABBOTTS BABBLER/005.jpg</td>\n",
              "      <td>ABBOTTS BABBLER</td>\n",
              "      <td>train</td>\n",
              "      <td>MALACOCINCLA ABBOTTI</td>\n",
              "    </tr>\n",
              "  </tbody>\n",
              "</table>\n",
              "</div>"
            ],
            "text/plain": [
              "   class id                      filepaths           labels data set   \n",
              "0         0  train/ABBOTTS BABBLER/001.jpg  ABBOTTS BABBLER    train  \\\n",
              "1         0  train/ABBOTTS BABBLER/002.jpg  ABBOTTS BABBLER    train   \n",
              "2         0  train/ABBOTTS BABBLER/003.jpg  ABBOTTS BABBLER    train   \n",
              "3         0  train/ABBOTTS BABBLER/004.jpg  ABBOTTS BABBLER    train   \n",
              "4         0  train/ABBOTTS BABBLER/005.jpg  ABBOTTS BABBLER    train   \n",
              "\n",
              "        scientific name  \n",
              "0  MALACOCINCLA ABBOTTI  \n",
              "1  MALACOCINCLA ABBOTTI  \n",
              "2  MALACOCINCLA ABBOTTI  \n",
              "3  MALACOCINCLA ABBOTTI  \n",
              "4  MALACOCINCLA ABBOTTI  "
            ]
          },
          "execution_count": 3,
          "metadata": {},
          "output_type": "execute_result"
        }
      ],
      "source": [
        "df.head()"
      ]
    },
    {
      "cell_type": "code",
      "execution_count": 17,
      "metadata": {
        "id": "DMiO1bNK7lOw"
      },
      "outputs": [
        {
          "data": {
            "text/html": [
              "<div>\n",
              "<style scoped>\n",
              "    .dataframe tbody tr th:only-of-type {\n",
              "        vertical-align: middle;\n",
              "    }\n",
              "\n",
              "    .dataframe tbody tr th {\n",
              "        vertical-align: top;\n",
              "    }\n",
              "\n",
              "    .dataframe thead th {\n",
              "        text-align: right;\n",
              "    }\n",
              "</style>\n",
              "<table border=\"1\" class=\"dataframe\">\n",
              "  <thead>\n",
              "    <tr style=\"text-align: right;\">\n",
              "      <th></th>\n",
              "      <th>class id</th>\n",
              "      <th>filepaths</th>\n",
              "      <th>labels</th>\n",
              "      <th>data set</th>\n",
              "      <th>scientific name</th>\n",
              "    </tr>\n",
              "  </thead>\n",
              "  <tbody>\n",
              "    <tr>\n",
              "      <th>0</th>\n",
              "      <td>0</td>\n",
              "      <td>train/ABBOTTS BABBLER/001.jpg</td>\n",
              "      <td>ABBOTTS BABBLER</td>\n",
              "      <td>train</td>\n",
              "      <td>MALACOCINCLA ABBOTTI</td>\n",
              "    </tr>\n",
              "    <tr>\n",
              "      <th>1</th>\n",
              "      <td>0</td>\n",
              "      <td>train/ABBOTTS BABBLER/002.jpg</td>\n",
              "      <td>ABBOTTS BABBLER</td>\n",
              "      <td>train</td>\n",
              "      <td>MALACOCINCLA ABBOTTI</td>\n",
              "    </tr>\n",
              "    <tr>\n",
              "      <th>2</th>\n",
              "      <td>0</td>\n",
              "      <td>train/ABBOTTS BABBLER/003.jpg</td>\n",
              "      <td>ABBOTTS BABBLER</td>\n",
              "      <td>train</td>\n",
              "      <td>MALACOCINCLA ABBOTTI</td>\n",
              "    </tr>\n",
              "    <tr>\n",
              "      <th>3</th>\n",
              "      <td>0</td>\n",
              "      <td>train/ABBOTTS BABBLER/004.jpg</td>\n",
              "      <td>ABBOTTS BABBLER</td>\n",
              "      <td>train</td>\n",
              "      <td>MALACOCINCLA ABBOTTI</td>\n",
              "    </tr>\n",
              "    <tr>\n",
              "      <th>4</th>\n",
              "      <td>0</td>\n",
              "      <td>train/ABBOTTS BABBLER/005.jpg</td>\n",
              "      <td>ABBOTTS BABBLER</td>\n",
              "      <td>train</td>\n",
              "      <td>MALACOCINCLA ABBOTTI</td>\n",
              "    </tr>\n",
              "    <tr>\n",
              "      <th>...</th>\n",
              "      <td>...</td>\n",
              "      <td>...</td>\n",
              "      <td>...</td>\n",
              "      <td>...</td>\n",
              "      <td>...</td>\n",
              "    </tr>\n",
              "    <tr>\n",
              "      <th>82719</th>\n",
              "      <td>514</td>\n",
              "      <td>train/ZEBRA DOVE/95.jpg</td>\n",
              "      <td>ZEBRA DOVE</td>\n",
              "      <td>train</td>\n",
              "      <td>GEOPELIA STRIATA</td>\n",
              "    </tr>\n",
              "    <tr>\n",
              "      <th>82720</th>\n",
              "      <td>514</td>\n",
              "      <td>train/ZEBRA DOVE/96.jpg</td>\n",
              "      <td>ZEBRA DOVE</td>\n",
              "      <td>train</td>\n",
              "      <td>GEOPELIA STRIATA</td>\n",
              "    </tr>\n",
              "    <tr>\n",
              "      <th>82721</th>\n",
              "      <td>514</td>\n",
              "      <td>train/ZEBRA DOVE/97.jpg</td>\n",
              "      <td>ZEBRA DOVE</td>\n",
              "      <td>train</td>\n",
              "      <td>GEOPELIA STRIATA</td>\n",
              "    </tr>\n",
              "    <tr>\n",
              "      <th>82722</th>\n",
              "      <td>514</td>\n",
              "      <td>train/ZEBRA DOVE/98.jpg</td>\n",
              "      <td>ZEBRA DOVE</td>\n",
              "      <td>train</td>\n",
              "      <td>GEOPELIA STRIATA</td>\n",
              "    </tr>\n",
              "    <tr>\n",
              "      <th>82723</th>\n",
              "      <td>514</td>\n",
              "      <td>train/ZEBRA DOVE/99.jpg</td>\n",
              "      <td>ZEBRA DOVE</td>\n",
              "      <td>train</td>\n",
              "      <td>GEOPELIA STRIATA</td>\n",
              "    </tr>\n",
              "  </tbody>\n",
              "</table>\n",
              "<p>82724 rows × 5 columns</p>\n",
              "</div>"
            ],
            "text/plain": [
              "       class id                      filepaths           labels data set   \n",
              "0             0  train/ABBOTTS BABBLER/001.jpg  ABBOTTS BABBLER    train  \\\n",
              "1             0  train/ABBOTTS BABBLER/002.jpg  ABBOTTS BABBLER    train   \n",
              "2             0  train/ABBOTTS BABBLER/003.jpg  ABBOTTS BABBLER    train   \n",
              "3             0  train/ABBOTTS BABBLER/004.jpg  ABBOTTS BABBLER    train   \n",
              "4             0  train/ABBOTTS BABBLER/005.jpg  ABBOTTS BABBLER    train   \n",
              "...         ...                            ...              ...      ...   \n",
              "82719       514        train/ZEBRA DOVE/95.jpg       ZEBRA DOVE    train   \n",
              "82720       514        train/ZEBRA DOVE/96.jpg       ZEBRA DOVE    train   \n",
              "82721       514        train/ZEBRA DOVE/97.jpg       ZEBRA DOVE    train   \n",
              "82722       514        train/ZEBRA DOVE/98.jpg       ZEBRA DOVE    train   \n",
              "82723       514        train/ZEBRA DOVE/99.jpg       ZEBRA DOVE    train   \n",
              "\n",
              "            scientific name  \n",
              "0      MALACOCINCLA ABBOTTI  \n",
              "1      MALACOCINCLA ABBOTTI  \n",
              "2      MALACOCINCLA ABBOTTI  \n",
              "3      MALACOCINCLA ABBOTTI  \n",
              "4      MALACOCINCLA ABBOTTI  \n",
              "...                     ...  \n",
              "82719      GEOPELIA STRIATA  \n",
              "82720      GEOPELIA STRIATA  \n",
              "82721      GEOPELIA STRIATA  \n",
              "82722      GEOPELIA STRIATA  \n",
              "82723      GEOPELIA STRIATA  \n",
              "\n",
              "[82724 rows x 5 columns]"
            ]
          },
          "execution_count": 17,
          "metadata": {},
          "output_type": "execute_result"
        }
      ],
      "source": [
        "#To use the 200 class variant, uncomment the seed and df = df[df[\"class id\"].isin(used_class_ids)] lines to have the datasets contain only 200 classes\n",
        "\n",
        "#seed(123)\n",
        "number_of_clases = 200\n",
        "class_ids = list(df[\"class id\"].unique())\n",
        "used_class_ids = sample(class_ids, 200)\n",
        "#df = df[df[\"class id\"].isin(used_class_ids)]\n",
        "train_df = df[df['data set'] == \"train\"]\n",
        "val_df = df[df['data set'] == \"valid\"]\n",
        "test_df = df[df['data set'] == \"test\"]\n",
        "train_df"
      ]
    },
    {
      "cell_type": "code",
      "execution_count": 91,
      "metadata": {
        "colab": {
          "base_uri": "https://localhost:8080/"
        },
        "id": "CU0N9Rbb5FqR",
        "outputId": "08ebcfd0-2869-4a8b-99a9-8e4d06ea43ad"
      },
      "outputs": [
        {
          "name": "stdout",
          "output_type": "stream",
          "text": [
            "Found 82724 validated image filenames belonging to 515 classes.\n",
            "Found 2575 validated image filenames belonging to 515 classes.\n",
            "Found 2575 validated image filenames belonging to 515 classes.\n"
          ]
        }
      ],
      "source": [
        "generator = tf.keras.preprocessing.image.ImageDataGenerator(\n",
        "    preprocessing_function=tf.keras.applications.efficientnet.preprocess_input\n",
        ")\n",
        "\n",
        "batch_size = 256\n",
        "seed = 123\n",
        "target_size = (64,64)\n",
        "\n",
        "train_images = generator.flow_from_dataframe(\n",
        "    dataframe=train_df,\n",
        "    x_col='filepaths',\n",
        "    y_col='labels',\n",
        "    color_mode='grayscale',\n",
        "    class_mode='categorical',\n",
        "    target_size=target_size,\n",
        "    batch_size=batch_size,\n",
        "    shuffle=True,\n",
        "    seed=seed,\n",
        "    subset='training'\n",
        ")\n",
        "\n",
        "val_images = generator.flow_from_dataframe(\n",
        "    dataframe=val_df,\n",
        "    x_col='filepaths',\n",
        "    y_col='labels',\n",
        "    color_mode='grayscale',\n",
        "    class_mode='categorical',\n",
        "    target_size=target_size,\n",
        "    batch_size=batch_size,\n",
        "    shuffle=True,\n",
        "    seed=seed,\n",
        "    subset='training'\n",
        ")\n",
        "\n",
        "test_images = generator.flow_from_dataframe(\n",
        "    dataframe=test_df,\n",
        "    x_col='filepaths',\n",
        "    y_col='labels',\n",
        "    color_mode='grayscale',\n",
        "    class_mode='categorical',\n",
        "    target_size=target_size,\n",
        "    batch_size=batch_size,\n",
        "    shuffle=False\n",
        ")"
      ]
    },
    {
      "cell_type": "code",
      "execution_count": 18,
      "metadata": {},
      "outputs": [
        {
          "name": "stdout",
          "output_type": "stream",
          "text": [
            "Found 82724 validated image filenames belonging to 515 classes.\n",
            "Found 2575 validated image filenames belonging to 515 classes.\n",
            "Found 2575 validated image filenames belonging to 515 classes.\n"
          ]
        }
      ],
      "source": [
        "generator = tf.keras.preprocessing.image.ImageDataGenerator(\n",
        "    preprocessing_function=tf.keras.applications.efficientnet.preprocess_input\n",
        ")\n",
        "\n",
        "batch_size = 256\n",
        "seed = 123\n",
        "target_size = (64,64)\n",
        "\n",
        "train_images_rgb = generator.flow_from_dataframe(\n",
        "    dataframe=train_df,\n",
        "    x_col='filepaths',\n",
        "    y_col='labels',\n",
        "    color_mode='rgb',\n",
        "    class_mode='categorical',\n",
        "    target_size=target_size,\n",
        "    batch_size=batch_size,\n",
        "    shuffle=True,\n",
        "    seed=seed,\n",
        "    subset='training'\n",
        ")\n",
        "\n",
        "val_images_rgb = generator.flow_from_dataframe(\n",
        "    dataframe=val_df,\n",
        "    x_col='filepaths',\n",
        "    y_col='labels',\n",
        "    color_mode='rgb',\n",
        "    class_mode='categorical',\n",
        "    target_size=target_size,\n",
        "    batch_size=batch_size,\n",
        "    shuffle=True,\n",
        "    seed=seed,\n",
        "    subset='training'\n",
        ")\n",
        "\n",
        "test_images_rgb = generator.flow_from_dataframe(\n",
        "    dataframe=test_df,\n",
        "    x_col='filepaths',\n",
        "    y_col='labels',\n",
        "    color_mode='rgb',\n",
        "    class_mode='categorical',\n",
        "    target_size=target_size,\n",
        "    batch_size=batch_size,\n",
        "    shuffle=False\n",
        ")"
      ]
    },
    {
      "cell_type": "code",
      "execution_count": 92,
      "metadata": {},
      "outputs": [
        {
          "data": {
            "text/plain": [
              "<matplotlib.image.AxesImage at 0x22aff224410>"
            ]
          },
          "execution_count": 92,
          "metadata": {},
          "output_type": "execute_result"
        },
        {
          "data": {
            "image/png": "[encoded data removed]",
            "text/plain": [
              "<Figure size 640x480 with 1 Axes>"
            ]
          },
          "metadata": {},
          "output_type": "display_data"
        }
      ],
      "source": [
        "plt.imshow(train_images.next()[0][0].astype(\"uint8\"))"
      ]
    },
    {
      "cell_type": "markdown",
      "metadata": {
        "id": "HAT8rUZAoPdS"
      },
      "source": [
        "Model Creation"
      ]
    },
    {
      "attachments": {},
      "cell_type": "markdown",
      "metadata": {},
      "source": [
        "200 class 2D CNN"
      ]
    },
    {
      "cell_type": "code",
      "execution_count": 66,
      "metadata": {},
      "outputs": [],
      "source": [
        "model = tf.keras.Sequential()\n",
        "model.add(tf.keras.layers.Conv2D(filters=32, kernel_size=(3), padding = \"same\", strides = (2), activation=\"relu\", input_shape = (64,64, 1)))\n",
        "model.add(tf.keras.layers.MaxPool2D(pool_size=(3), padding = \"valid\", strides = (2)))\n",
        "model.add(tf.keras.layers.Conv2D(filters=64, kernel_size=(3), padding = \"same\", strides = (2), activation=\"relu\"))\n",
        "model.add(tf.keras.layers.MaxPool2D(pool_size=(3), padding = \"valid\", strides = (2)))\n",
        "model.add(tf.keras.layers.Flatten())\n",
        "model.add(tf.keras.layers.Dense(100, activation = \"relu\"))\n",
        "model.add(tf.keras.layers.Dense(200, activation = \"softmax\"))\n",
        "\n",
        "model.build()\n",
        "\n",
        "optimizer = tf.optimizers.Adam(learning_rate = 0.0001)\n",
        "loss_fn = tf.losses.CategoricalCrossentropy()\n",
        "acc_fn = tf.metrics.CategoricalAccuracy()\n",
        "ckpt_path = \"ckpt/checkpoint/2D_200_class\"\n",
        "checkpoint = tf.keras.callbacks.ModelCheckpoint(filepath=ckpt_path)\n",
        "model.compile(optimizer, loss_fn, metrics = [acc_fn])"
      ]
    },
    {
      "attachments": {},
      "cell_type": "markdown",
      "metadata": {},
      "source": [
        "515 class 2D CNN"
      ]
    },
    {
      "cell_type": "code",
      "execution_count": 57,
      "metadata": {},
      "outputs": [],
      "source": [
        "model = tf.keras.Sequential()\n",
        "model.add(tf.keras.layers.Conv2D(filters=32, kernel_size=(3), padding = \"same\", strides = (2), activation=\"relu\", input_shape = (64,64, 1)))\n",
        "model.add(tf.keras.layers.MaxPool2D(pool_size=(3), padding = \"valid\", strides = (2)))\n",
        "model.add(tf.keras.layers.Conv2D(filters=64, kernel_size=(3), padding = \"same\", strides = (2), activation=\"relu\"))\n",
        "model.add(tf.keras.layers.MaxPool2D(pool_size=(3), padding = \"valid\", strides = (2)))\n",
        "model.add(tf.keras.layers.Flatten())\n",
        "model.add(tf.keras.layers.Dense(100, activation = \"relu\"))\n",
        "model.add(tf.keras.layers.Dense(515, activation = \"softmax\"))\n",
        "\n",
        "model.build()\n",
        "\n",
        "optimizer = tf.optimizers.Adam(learning_rate = 0.0001)\n",
        "loss_fn = tf.losses.CategoricalCrossentropy()\n",
        "acc_fn = tf.metrics.CategoricalAccuracy()\n",
        "ckpt_path = \"ckpt/checkpoint/2D_515_class\"\n",
        "checkpoint = tf.keras.callbacks.ModelCheckpoint(filepath=ckpt_path)\n",
        "model.compile(optimizer, loss_fn, metrics = [acc_fn])"
      ]
    },
    {
      "attachments": {},
      "cell_type": "markdown",
      "metadata": {},
      "source": [
        "200 class 3D CNN"
      ]
    },
    {
      "cell_type": "code",
      "execution_count": 32,
      "metadata": {
        "id": "DilPqNpmoPCg"
      },
      "outputs": [],
      "source": [
        "model = tf.keras.Sequential()\n",
        "model.add(tf.keras.layers.Reshape((-1, 64, 64, 3), name = \"reshape\", input_shape = (64,64,3)))\n",
        "model.add(tf.keras.layers.Conv3D(filters=32, kernel_size=(3), padding = \"same\", strides = (2), activation=\"relu\", name = \"conv1\"))\n",
        "model.add(tf.keras.layers.MaxPool3D(pool_size=(3), padding = \"same\", strides = (2), name = \"pool1\"))\n",
        "model.add(tf.keras.layers.Conv3D(filters=64, kernel_size=(3), padding = \"same\", strides = (2), activation=\"relu\", name = \"conv2\"))\n",
        "model.add(tf.keras.layers.MaxPool3D(pool_size=(3), padding = \"same\", strides = (2), name = \"pool2\"))\n",
        "model.add(tf.keras.layers.Flatten(name = \"flat\"))\n",
        "model.add(tf.keras.layers.Dense(100, activation = \"relu\", name = \"dense1\"))\n",
        "model.add(tf.keras.layers.Dense(200, activation = \"softmax\", name = \"dense3\"))\n",
        "\n",
        "model.build()\n",
        "\n",
        "optimizer = tf.optimizers.Adam()\n",
        "loss_fn = tf.losses.CategoricalCrossentropy()\n",
        "acc_fn = tf.metrics.CategoricalAccuracy()\n",
        "ckpt_path = \"ckpt/checkpoint/3D_200_class\"\n",
        "checkpoint = tf.keras.callbacks.ModelCheckpoint(filepath=ckpt_path)\n",
        "model.compile(optimizer, loss_fn, metrics = [acc_fn])"
      ]
    },
    {
      "attachments": {},
      "cell_type": "markdown",
      "metadata": {},
      "source": [
        "515 class 3D CNN"
      ]
    },
    {
      "cell_type": "code",
      "execution_count": 41,
      "metadata": {},
      "outputs": [],
      "source": [
        "model = tf.keras.Sequential()\n",
        "model.add(tf.keras.layers.Reshape((-1, 64, 64, 3), name = \"reshape\", input_shape = (64,64,3)))\n",
        "model.add(tf.keras.layers.Conv3D(filters=32, kernel_size=(3), padding = \"same\", strides = (2), activation=\"relu\", name = \"conv1\"))\n",
        "model.add(tf.keras.layers.MaxPool3D(pool_size=(3), padding = \"same\", strides = (2), name = \"pool1\"))\n",
        "model.add(tf.keras.layers.Conv3D(filters=64, kernel_size=(3), padding = \"same\", strides = (2), activation=\"relu\", name = \"conv2\"))\n",
        "model.add(tf.keras.layers.MaxPool3D(pool_size=(3), padding = \"same\", strides = (2), name = \"pool2\"))\n",
        "model.add(tf.keras.layers.Flatten(name = \"flat\"))\n",
        "model.add(tf.keras.layers.Dense(100, activation = \"relu\", name = \"dense1\"))\n",
        "model.add(tf.keras.layers.Dense(515, activation = \"softmax\", name = \"dense3\"))\n",
        "\n",
        "model.build()\n",
        "\n",
        "optimizer = tf.optimizers.Adam()\n",
        "loss_fn = tf.losses.CategoricalCrossentropy()\n",
        "acc_fn = tf.metrics.CategoricalAccuracy()\n",
        "ckpt_path = \"ckpt/checkpoint/3D_515_class\"\n",
        "checkpoint = tf.keras.callbacks.ModelCheckpoint(filepath=ckpt_path)\n",
        "model.compile(optimizer, loss_fn, metrics = [acc_fn])\n",
        "model.build()"
      ]
    },
    {
      "cell_type": "code",
      "execution_count": 67,
      "metadata": {},
      "outputs": [
        {
          "name": "stdout",
          "output_type": "stream",
          "text": [
            "Model: \"sequential_14\"\n",
            "_________________________________________________________________\n",
            " Layer (type)                Output Shape              Param #   \n",
            "=================================================================\n",
            " conv2d_12 (Conv2D)          (None, 32, 32, 32)        320       \n",
            "                                                                 \n",
            " max_pooling2d_12 (MaxPoolin  (None, 15, 15, 32)       0         \n",
            " g2D)                                                            \n",
            "                                                                 \n",
            " conv2d_13 (Conv2D)          (None, 8, 8, 64)          18496     \n",
            "                                                                 \n",
            " max_pooling2d_13 (MaxPoolin  (None, 3, 3, 64)         0         \n",
            " g2D)                                                            \n",
            "                                                                 \n",
            " flatten_4 (Flatten)         (None, 576)               0         \n",
            "                                                                 \n",
            " dense_8 (Dense)             (None, 100)               57700     \n",
            "                                                                 \n",
            " dense_9 (Dense)             (None, 200)               20200     \n",
            "                                                                 \n",
            "=================================================================\n",
            "Total params: 96,716\n",
            "Trainable params: 96,716\n",
            "Non-trainable params: 0\n",
            "_________________________________________________________________\n"
          ]
        }
      ],
      "source": [
        "model.summary()"
      ]
    },
    {
      "cell_type": "markdown",
      "metadata": {
        "id": "3Webh1IEoJrr"
      },
      "source": [
        "Model Training"
      ]
    },
    {
      "cell_type": "code",
      "execution_count": 152,
      "metadata": {},
      "outputs": [
        {
          "name": "stdout",
          "output_type": "stream",
          "text": [
            "Downloading data from https://storage.googleapis.com/tensorflow/keras-applications/resnet_rs/resnet-rs-101-i192_notop.h5\n",
            "247817848/247817848 [==============================] - 9s 0us/step\n",
            "Model: \"model_38\"\n",
            "_________________________________________________________________\n",
            " Layer (type)                Output Shape              Param #   \n",
            "=================================================================\n",
            " input_88 (InputLayer)       [(None, 64, 64, 3)]       0         \n",
            "                                                                 \n",
            " resnet-rs-101 (Functional)  (None, 2, 2, 2048)        61675296  \n",
            "                                                                 \n",
            " global_average_pooling2d_8   (None, 2048)             0         \n",
            " (GlobalAveragePooling2D)                                        \n",
            "                                                                 \n",
            " dense_73 (Dense)            (None, 100)               204900    \n",
            "                                                                 \n",
            " dense_74 (Dense)            (None, 515)               52015     \n",
            "                                                                 \n",
            "=================================================================\n",
            "Total params: 61,932,211\n",
            "Trainable params: 256,915\n",
            "Non-trainable params: 61,675,296\n",
            "_________________________________________________________________\n"
          ]
        }
      ],
      "source": [
        "mobileNet_base = tf.keras.applications.ResNetRS101(input_shape=(64, 64, 3),\n",
        "                                               include_top=False,\n",
        "                                               weights='imagenet')\n",
        "\n",
        "mobileNet_base.trainable = False\n",
        "\n",
        "ins = tf.keras.Input(shape=(64,64,3))\n",
        "ins = tf.keras.applications.resnet50.preprocess_input(ins)\n",
        "x = mobileNet_base(ins)\n",
        "x = tf.keras.layers.GlobalAveragePooling2D()(x)\n",
        "x = tf.keras.layers.Dense(100, activation=\"relu\")(x)\n",
        "predictor_head = tf.keras.layers.Dense(515, activation=\"softmax\")(x)\n",
        "\n",
        "optimizer = tf.keras.optimizers.legacy.Adam(learning_rate = 0.0001)\n",
        "ckpt_path = \"ckpt/checkpoint/ResNet101_transfer_64_64\"\n",
        "checkpoint = tf.keras.callbacks.ModelCheckpoint(filepath=ckpt_path)\n",
        "transfer_model = tf.keras.Model(inputs=ins, outputs = predictor_head)\n",
        "transfer_model.compile(optimizer, loss_fn, metrics = [acc_fn])\n",
        "transfer_model.summary()"
      ]
    },
    {
      "cell_type": "code",
      "execution_count": 68,
      "metadata": {
        "id": "pD12IENRoMpE"
      },
      "outputs": [
        {
          "name": "stdout",
          "output_type": "stream",
          "text": [
            "Epoch 1/30\n",
            "126/126 [==============================] - ETA: 0s - loss: 8.6099 - categorical_accuracy: 0.0052"
          ]
        },
        {
          "name": "stderr",
          "output_type": "stream",
          "text": [
            "WARNING:absl:Found untraced functions such as _jit_compiled_convolution_op, _jit_compiled_convolution_op, _update_step_xla while saving (showing 3 of 3). These functions will not be directly callable after loading.\n"
          ]
        },
        {
          "name": "stdout",
          "output_type": "stream",
          "text": [
            "INFO:tensorflow:Assets written to: ckpt/checkpoint\\2D_200_class\\assets\n"
          ]
        },
        {
          "name": "stderr",
          "output_type": "stream",
          "text": [
            "INFO:tensorflow:Assets written to: ckpt/checkpoint\\2D_200_class\\assets\n"
          ]
        },
        {
          "name": "stdout",
          "output_type": "stream",
          "text": [
            "126/126 [==============================] - 50s 391ms/step - loss: 8.6099 - categorical_accuracy: 0.0052 - val_loss: 5.3100 - val_categorical_accuracy: 0.0080\n",
            "Epoch 2/30\n",
            "126/126 [==============================] - ETA: 0s - loss: 5.3060 - categorical_accuracy: 0.0065"
          ]
        },
        {
          "name": "stderr",
          "output_type": "stream",
          "text": [
            "WARNING:absl:Found untraced functions such as _jit_compiled_convolution_op, _jit_compiled_convolution_op, _update_step_xla while saving (showing 3 of 3). These functions will not be directly callable after loading.\n"
          ]
        },
        {
          "name": "stdout",
          "output_type": "stream",
          "text": [
            "INFO:tensorflow:Assets written to: ckpt/checkpoint\\2D_200_class\\assets\n"
          ]
        },
        {
          "name": "stderr",
          "output_type": "stream",
          "text": [
            "INFO:tensorflow:Assets written to: ckpt/checkpoint\\2D_200_class\\assets\n"
          ]
        },
        {
          "name": "stdout",
          "output_type": "stream",
          "text": [
            "126/126 [==============================] - 46s 365ms/step - loss: 5.3060 - categorical_accuracy: 0.0065 - val_loss: 5.3032 - val_categorical_accuracy: 0.0080\n",
            "Epoch 3/30\n",
            "126/126 [==============================] - ETA: 0s - loss: 5.2996 - categorical_accuracy: 0.0075"
          ]
        },
        {
          "name": "stderr",
          "output_type": "stream",
          "text": [
            "WARNING:absl:Found untraced functions such as _jit_compiled_convolution_op, _jit_compiled_convolution_op, _update_step_xla while saving (showing 3 of 3). These functions will not be directly callable after loading.\n"
          ]
        },
        {
          "name": "stdout",
          "output_type": "stream",
          "text": [
            "INFO:tensorflow:Assets written to: ckpt/checkpoint\\2D_200_class\\assets\n"
          ]
        },
        {
          "name": "stderr",
          "output_type": "stream",
          "text": [
            "INFO:tensorflow:Assets written to: ckpt/checkpoint\\2D_200_class\\assets\n"
          ]
        },
        {
          "name": "stdout",
          "output_type": "stream",
          "text": [
            "126/126 [==============================] - 47s 370ms/step - loss: 5.2996 - categorical_accuracy: 0.0075 - val_loss: 5.3012 - val_categorical_accuracy: 0.0090\n",
            "Epoch 4/30\n",
            "126/126 [==============================] - ETA: 0s - loss: 5.2948 - categorical_accuracy: 0.0101"
          ]
        },
        {
          "name": "stderr",
          "output_type": "stream",
          "text": [
            "WARNING:absl:Found untraced functions such as _jit_compiled_convolution_op, _jit_compiled_convolution_op, _update_step_xla while saving (showing 3 of 3). These functions will not be directly callable after loading.\n"
          ]
        },
        {
          "name": "stdout",
          "output_type": "stream",
          "text": [
            "INFO:tensorflow:Assets written to: ckpt/checkpoint\\2D_200_class\\assets\n"
          ]
        },
        {
          "name": "stderr",
          "output_type": "stream",
          "text": [
            "INFO:tensorflow:Assets written to: ckpt/checkpoint\\2D_200_class\\assets\n"
          ]
        },
        {
          "name": "stdout",
          "output_type": "stream",
          "text": [
            "126/126 [==============================] - 46s 363ms/step - loss: 5.2948 - categorical_accuracy: 0.0101 - val_loss: 5.2986 - val_categorical_accuracy: 0.0100\n",
            "Epoch 5/30\n",
            "126/126 [==============================] - ETA: 0s - loss: 5.2878 - categorical_accuracy: 0.0112"
          ]
        },
        {
          "name": "stderr",
          "output_type": "stream",
          "text": [
            "WARNING:absl:Found untraced functions such as _jit_compiled_convolution_op, _jit_compiled_convolution_op, _update_step_xla while saving (showing 3 of 3). These functions will not be directly callable after loading.\n"
          ]
        },
        {
          "name": "stdout",
          "output_type": "stream",
          "text": [
            "INFO:tensorflow:Assets written to: ckpt/checkpoint\\2D_200_class\\assets\n"
          ]
        },
        {
          "name": "stderr",
          "output_type": "stream",
          "text": [
            "INFO:tensorflow:Assets written to: ckpt/checkpoint\\2D_200_class\\assets\n"
          ]
        },
        {
          "name": "stdout",
          "output_type": "stream",
          "text": [
            "126/126 [==============================] - 44s 345ms/step - loss: 5.2878 - categorical_accuracy: 0.0112 - val_loss: 5.2854 - val_categorical_accuracy: 0.0080\n",
            "Epoch 6/30\n",
            "126/126 [==============================] - ETA: 0s - loss: 5.2717 - categorical_accuracy: 0.0131"
          ]
        },
        {
          "name": "stderr",
          "output_type": "stream",
          "text": [
            "WARNING:absl:Found untraced functions such as _jit_compiled_convolution_op, _jit_compiled_convolution_op, _update_step_xla while saving (showing 3 of 3). These functions will not be directly callable after loading.\n"
          ]
        },
        {
          "name": "stdout",
          "output_type": "stream",
          "text": [
            "INFO:tensorflow:Assets written to: ckpt/checkpoint\\2D_200_class\\assets\n"
          ]
        },
        {
          "name": "stderr",
          "output_type": "stream",
          "text": [
            "INFO:tensorflow:Assets written to: ckpt/checkpoint\\2D_200_class\\assets\n"
          ]
        },
        {
          "name": "stdout",
          "output_type": "stream",
          "text": [
            "126/126 [==============================] - 44s 351ms/step - loss: 5.2717 - categorical_accuracy: 0.0131 - val_loss: 5.2651 - val_categorical_accuracy: 0.0120\n",
            "Epoch 7/30\n",
            "126/126 [==============================] - ETA: 0s - loss: 5.2478 - categorical_accuracy: 0.0148"
          ]
        },
        {
          "name": "stderr",
          "output_type": "stream",
          "text": [
            "WARNING:absl:Found untraced functions such as _jit_compiled_convolution_op, _jit_compiled_convolution_op, _update_step_xla while saving (showing 3 of 3). These functions will not be directly callable after loading.\n"
          ]
        },
        {
          "name": "stdout",
          "output_type": "stream",
          "text": [
            "INFO:tensorflow:Assets written to: ckpt/checkpoint\\2D_200_class\\assets\n"
          ]
        },
        {
          "name": "stderr",
          "output_type": "stream",
          "text": [
            "INFO:tensorflow:Assets written to: ckpt/checkpoint\\2D_200_class\\assets\n"
          ]
        },
        {
          "name": "stdout",
          "output_type": "stream",
          "text": [
            "126/126 [==============================] - 44s 352ms/step - loss: 5.2478 - categorical_accuracy: 0.0148 - val_loss: 5.2459 - val_categorical_accuracy: 0.0150\n",
            "Epoch 8/30\n",
            "126/126 [==============================] - ETA: 0s - loss: 5.2223 - categorical_accuracy: 0.0149"
          ]
        },
        {
          "name": "stderr",
          "output_type": "stream",
          "text": [
            "WARNING:absl:Found untraced functions such as _jit_compiled_convolution_op, _jit_compiled_convolution_op, _update_step_xla while saving (showing 3 of 3). These functions will not be directly callable after loading.\n"
          ]
        },
        {
          "name": "stdout",
          "output_type": "stream",
          "text": [
            "INFO:tensorflow:Assets written to: ckpt/checkpoint\\2D_200_class\\assets\n"
          ]
        },
        {
          "name": "stderr",
          "output_type": "stream",
          "text": [
            "INFO:tensorflow:Assets written to: ckpt/checkpoint\\2D_200_class\\assets\n"
          ]
        },
        {
          "name": "stdout",
          "output_type": "stream",
          "text": [
            "126/126 [==============================] - 46s 365ms/step - loss: 5.2223 - categorical_accuracy: 0.0149 - val_loss: 5.2153 - val_categorical_accuracy: 0.0120\n",
            "Epoch 9/30\n",
            "126/126 [==============================] - ETA: 0s - loss: 5.1930 - categorical_accuracy: 0.0154"
          ]
        },
        {
          "name": "stderr",
          "output_type": "stream",
          "text": [
            "WARNING:absl:Found untraced functions such as _jit_compiled_convolution_op, _jit_compiled_convolution_op, _update_step_xla while saving (showing 3 of 3). These functions will not be directly callable after loading.\n"
          ]
        },
        {
          "name": "stdout",
          "output_type": "stream",
          "text": [
            "INFO:tensorflow:Assets written to: ckpt/checkpoint\\2D_200_class\\assets\n"
          ]
        },
        {
          "name": "stderr",
          "output_type": "stream",
          "text": [
            "INFO:tensorflow:Assets written to: ckpt/checkpoint\\2D_200_class\\assets\n"
          ]
        },
        {
          "name": "stdout",
          "output_type": "stream",
          "text": [
            "126/126 [==============================] - 46s 363ms/step - loss: 5.1930 - categorical_accuracy: 0.0154 - val_loss: 5.1931 - val_categorical_accuracy: 0.0120\n",
            "Epoch 10/30\n",
            "126/126 [==============================] - ETA: 0s - loss: 5.1664 - categorical_accuracy: 0.0154"
          ]
        },
        {
          "name": "stderr",
          "output_type": "stream",
          "text": [
            "WARNING:absl:Found untraced functions such as _jit_compiled_convolution_op, _jit_compiled_convolution_op, _update_step_xla while saving (showing 3 of 3). These functions will not be directly callable after loading.\n"
          ]
        },
        {
          "name": "stdout",
          "output_type": "stream",
          "text": [
            "INFO:tensorflow:Assets written to: ckpt/checkpoint\\2D_200_class\\assets\n"
          ]
        },
        {
          "name": "stderr",
          "output_type": "stream",
          "text": [
            "INFO:tensorflow:Assets written to: ckpt/checkpoint\\2D_200_class\\assets\n"
          ]
        },
        {
          "name": "stdout",
          "output_type": "stream",
          "text": [
            "126/126 [==============================] - 47s 373ms/step - loss: 5.1664 - categorical_accuracy: 0.0154 - val_loss: 5.1674 - val_categorical_accuracy: 0.0140\n",
            "Epoch 11/30\n",
            "126/126 [==============================] - ETA: 0s - loss: 5.1396 - categorical_accuracy: 0.0167"
          ]
        },
        {
          "name": "stderr",
          "output_type": "stream",
          "text": [
            "WARNING:absl:Found untraced functions such as _jit_compiled_convolution_op, _jit_compiled_convolution_op, _update_step_xla while saving (showing 3 of 3). These functions will not be directly callable after loading.\n"
          ]
        },
        {
          "name": "stdout",
          "output_type": "stream",
          "text": [
            "INFO:tensorflow:Assets written to: ckpt/checkpoint\\2D_200_class\\assets\n"
          ]
        },
        {
          "name": "stderr",
          "output_type": "stream",
          "text": [
            "INFO:tensorflow:Assets written to: ckpt/checkpoint\\2D_200_class\\assets\n"
          ]
        },
        {
          "name": "stdout",
          "output_type": "stream",
          "text": [
            "126/126 [==============================] - 46s 362ms/step - loss: 5.1396 - categorical_accuracy: 0.0167 - val_loss: 5.1431 - val_categorical_accuracy: 0.0180\n",
            "Epoch 12/30\n",
            "126/126 [==============================] - ETA: 0s - loss: 5.1163 - categorical_accuracy: 0.0203"
          ]
        },
        {
          "name": "stderr",
          "output_type": "stream",
          "text": [
            "WARNING:absl:Found untraced functions such as _jit_compiled_convolution_op, _jit_compiled_convolution_op, _update_step_xla while saving (showing 3 of 3). These functions will not be directly callable after loading.\n"
          ]
        },
        {
          "name": "stdout",
          "output_type": "stream",
          "text": [
            "INFO:tensorflow:Assets written to: ckpt/checkpoint\\2D_200_class\\assets\n"
          ]
        },
        {
          "name": "stderr",
          "output_type": "stream",
          "text": [
            "INFO:tensorflow:Assets written to: ckpt/checkpoint\\2D_200_class\\assets\n"
          ]
        },
        {
          "name": "stdout",
          "output_type": "stream",
          "text": [
            "126/126 [==============================] - 47s 372ms/step - loss: 5.1163 - categorical_accuracy: 0.0203 - val_loss: 5.1170 - val_categorical_accuracy: 0.0160\n",
            "Epoch 13/30\n",
            "126/126 [==============================] - ETA: 0s - loss: 5.0896 - categorical_accuracy: 0.0224"
          ]
        },
        {
          "name": "stderr",
          "output_type": "stream",
          "text": [
            "WARNING:absl:Found untraced functions such as _jit_compiled_convolution_op, _jit_compiled_convolution_op, _update_step_xla while saving (showing 3 of 3). These functions will not be directly callable after loading.\n"
          ]
        },
        {
          "name": "stdout",
          "output_type": "stream",
          "text": [
            "INFO:tensorflow:Assets written to: ckpt/checkpoint\\2D_200_class\\assets\n"
          ]
        },
        {
          "name": "stderr",
          "output_type": "stream",
          "text": [
            "INFO:tensorflow:Assets written to: ckpt/checkpoint\\2D_200_class\\assets\n"
          ]
        },
        {
          "name": "stdout",
          "output_type": "stream",
          "text": [
            "126/126 [==============================] - 47s 373ms/step - loss: 5.0896 - categorical_accuracy: 0.0224 - val_loss: 5.1025 - val_categorical_accuracy: 0.0170\n",
            "Epoch 14/30\n",
            "126/126 [==============================] - ETA: 0s - loss: 5.0672 - categorical_accuracy: 0.0233"
          ]
        },
        {
          "name": "stderr",
          "output_type": "stream",
          "text": [
            "WARNING:absl:Found untraced functions such as _jit_compiled_convolution_op, _jit_compiled_convolution_op, _update_step_xla while saving (showing 3 of 3). These functions will not be directly callable after loading.\n"
          ]
        },
        {
          "name": "stdout",
          "output_type": "stream",
          "text": [
            "INFO:tensorflow:Assets written to: ckpt/checkpoint\\2D_200_class\\assets\n"
          ]
        },
        {
          "name": "stderr",
          "output_type": "stream",
          "text": [
            "INFO:tensorflow:Assets written to: ckpt/checkpoint\\2D_200_class\\assets\n"
          ]
        },
        {
          "name": "stdout",
          "output_type": "stream",
          "text": [
            "126/126 [==============================] - 46s 362ms/step - loss: 5.0672 - categorical_accuracy: 0.0233 - val_loss: 5.0783 - val_categorical_accuracy: 0.0220\n",
            "Epoch 15/30\n",
            "126/126 [==============================] - ETA: 0s - loss: 5.0393 - categorical_accuracy: 0.0256"
          ]
        },
        {
          "name": "stderr",
          "output_type": "stream",
          "text": [
            "WARNING:absl:Found untraced functions such as _jit_compiled_convolution_op, _jit_compiled_convolution_op, _update_step_xla while saving (showing 3 of 3). These functions will not be directly callable after loading.\n"
          ]
        },
        {
          "name": "stdout",
          "output_type": "stream",
          "text": [
            "INFO:tensorflow:Assets written to: ckpt/checkpoint\\2D_200_class\\assets\n"
          ]
        },
        {
          "name": "stderr",
          "output_type": "stream",
          "text": [
            "INFO:tensorflow:Assets written to: ckpt/checkpoint\\2D_200_class\\assets\n"
          ]
        },
        {
          "name": "stdout",
          "output_type": "stream",
          "text": [
            "126/126 [==============================] - 43s 340ms/step - loss: 5.0393 - categorical_accuracy: 0.0256 - val_loss: 5.0524 - val_categorical_accuracy: 0.0190\n",
            "Epoch 16/30\n",
            "126/126 [==============================] - ETA: 0s - loss: 5.0134 - categorical_accuracy: 0.0275"
          ]
        },
        {
          "name": "stderr",
          "output_type": "stream",
          "text": [
            "WARNING:absl:Found untraced functions such as _jit_compiled_convolution_op, _jit_compiled_convolution_op, _update_step_xla while saving (showing 3 of 3). These functions will not be directly callable after loading.\n"
          ]
        },
        {
          "name": "stdout",
          "output_type": "stream",
          "text": [
            "INFO:tensorflow:Assets written to: ckpt/checkpoint\\2D_200_class\\assets\n"
          ]
        },
        {
          "name": "stderr",
          "output_type": "stream",
          "text": [
            "INFO:tensorflow:Assets written to: ckpt/checkpoint\\2D_200_class\\assets\n"
          ]
        },
        {
          "name": "stdout",
          "output_type": "stream",
          "text": [
            "126/126 [==============================] - 44s 352ms/step - loss: 5.0134 - categorical_accuracy: 0.0275 - val_loss: 5.0319 - val_categorical_accuracy: 0.0200\n",
            "Epoch 17/30\n",
            "126/126 [==============================] - ETA: 0s - loss: 4.9848 - categorical_accuracy: 0.0292"
          ]
        },
        {
          "name": "stderr",
          "output_type": "stream",
          "text": [
            "WARNING:absl:Found untraced functions such as _jit_compiled_convolution_op, _jit_compiled_convolution_op, _update_step_xla while saving (showing 3 of 3). These functions will not be directly callable after loading.\n"
          ]
        },
        {
          "name": "stdout",
          "output_type": "stream",
          "text": [
            "INFO:tensorflow:Assets written to: ckpt/checkpoint\\2D_200_class\\assets\n"
          ]
        },
        {
          "name": "stderr",
          "output_type": "stream",
          "text": [
            "INFO:tensorflow:Assets written to: ckpt/checkpoint\\2D_200_class\\assets\n"
          ]
        },
        {
          "name": "stdout",
          "output_type": "stream",
          "text": [
            "126/126 [==============================] - 46s 362ms/step - loss: 4.9848 - categorical_accuracy: 0.0292 - val_loss: 5.0029 - val_categorical_accuracy: 0.0260\n",
            "Epoch 18/30\n",
            "126/126 [==============================] - ETA: 0s - loss: 4.9565 - categorical_accuracy: 0.0323"
          ]
        },
        {
          "name": "stderr",
          "output_type": "stream",
          "text": [
            "WARNING:absl:Found untraced functions such as _jit_compiled_convolution_op, _jit_compiled_convolution_op, _update_step_xla while saving (showing 3 of 3). These functions will not be directly callable after loading.\n"
          ]
        },
        {
          "name": "stdout",
          "output_type": "stream",
          "text": [
            "INFO:tensorflow:Assets written to: ckpt/checkpoint\\2D_200_class\\assets\n"
          ]
        },
        {
          "name": "stderr",
          "output_type": "stream",
          "text": [
            "INFO:tensorflow:Assets written to: ckpt/checkpoint\\2D_200_class\\assets\n"
          ]
        },
        {
          "name": "stdout",
          "output_type": "stream",
          "text": [
            "126/126 [==============================] - 46s 361ms/step - loss: 4.9565 - categorical_accuracy: 0.0323 - val_loss: 4.9918 - val_categorical_accuracy: 0.0230\n",
            "Epoch 19/30\n",
            "126/126 [==============================] - ETA: 0s - loss: 4.9227 - categorical_accuracy: 0.0369"
          ]
        },
        {
          "name": "stderr",
          "output_type": "stream",
          "text": [
            "WARNING:absl:Found untraced functions such as _jit_compiled_convolution_op, _jit_compiled_convolution_op, _update_step_xla while saving (showing 3 of 3). These functions will not be directly callable after loading.\n"
          ]
        },
        {
          "name": "stdout",
          "output_type": "stream",
          "text": [
            "INFO:tensorflow:Assets written to: ckpt/checkpoint\\2D_200_class\\assets\n"
          ]
        },
        {
          "name": "stderr",
          "output_type": "stream",
          "text": [
            "INFO:tensorflow:Assets written to: ckpt/checkpoint\\2D_200_class\\assets\n"
          ]
        },
        {
          "name": "stdout",
          "output_type": "stream",
          "text": [
            "126/126 [==============================] - 47s 373ms/step - loss: 4.9227 - categorical_accuracy: 0.0369 - val_loss: 4.9657 - val_categorical_accuracy: 0.0260\n",
            "Epoch 20/30\n",
            "126/126 [==============================] - ETA: 0s - loss: 4.8851 - categorical_accuracy: 0.0425"
          ]
        },
        {
          "name": "stderr",
          "output_type": "stream",
          "text": [
            "WARNING:absl:Found untraced functions such as _jit_compiled_convolution_op, _jit_compiled_convolution_op, _update_step_xla while saving (showing 3 of 3). These functions will not be directly callable after loading.\n"
          ]
        },
        {
          "name": "stdout",
          "output_type": "stream",
          "text": [
            "INFO:tensorflow:Assets written to: ckpt/checkpoint\\2D_200_class\\assets\n"
          ]
        },
        {
          "name": "stderr",
          "output_type": "stream",
          "text": [
            "INFO:tensorflow:Assets written to: ckpt/checkpoint\\2D_200_class\\assets\n"
          ]
        },
        {
          "name": "stdout",
          "output_type": "stream",
          "text": [
            "126/126 [==============================] - 47s 372ms/step - loss: 4.8851 - categorical_accuracy: 0.0425 - val_loss: 4.9192 - val_categorical_accuracy: 0.0390\n",
            "Epoch 21/30\n",
            "126/126 [==============================] - ETA: 0s - loss: 4.8446 - categorical_accuracy: 0.0460"
          ]
        },
        {
          "name": "stderr",
          "output_type": "stream",
          "text": [
            "WARNING:absl:Found untraced functions such as _jit_compiled_convolution_op, _jit_compiled_convolution_op, _update_step_xla while saving (showing 3 of 3). These functions will not be directly callable after loading.\n"
          ]
        },
        {
          "name": "stdout",
          "output_type": "stream",
          "text": [
            "INFO:tensorflow:Assets written to: ckpt/checkpoint\\2D_200_class\\assets\n"
          ]
        },
        {
          "name": "stderr",
          "output_type": "stream",
          "text": [
            "INFO:tensorflow:Assets written to: ckpt/checkpoint\\2D_200_class\\assets\n"
          ]
        },
        {
          "name": "stdout",
          "output_type": "stream",
          "text": [
            "126/126 [==============================] - 46s 363ms/step - loss: 4.8446 - categorical_accuracy: 0.0460 - val_loss: 4.8649 - val_categorical_accuracy: 0.0380\n",
            "Epoch 22/30\n",
            "126/126 [==============================] - ETA: 0s - loss: 4.8027 - categorical_accuracy: 0.0494"
          ]
        },
        {
          "name": "stderr",
          "output_type": "stream",
          "text": [
            "WARNING:absl:Found untraced functions such as _jit_compiled_convolution_op, _jit_compiled_convolution_op, _update_step_xla while saving (showing 3 of 3). These functions will not be directly callable after loading.\n"
          ]
        },
        {
          "name": "stdout",
          "output_type": "stream",
          "text": [
            "INFO:tensorflow:Assets written to: ckpt/checkpoint\\2D_200_class\\assets\n"
          ]
        },
        {
          "name": "stderr",
          "output_type": "stream",
          "text": [
            "INFO:tensorflow:Assets written to: ckpt/checkpoint\\2D_200_class\\assets\n"
          ]
        },
        {
          "name": "stdout",
          "output_type": "stream",
          "text": [
            "126/126 [==============================] - 45s 357ms/step - loss: 4.8027 - categorical_accuracy: 0.0494 - val_loss: 4.8543 - val_categorical_accuracy: 0.0390\n",
            "Epoch 23/30\n",
            "126/126 [==============================] - ETA: 0s - loss: 4.7507 - categorical_accuracy: 0.0523"
          ]
        },
        {
          "name": "stderr",
          "output_type": "stream",
          "text": [
            "WARNING:absl:Found untraced functions such as _jit_compiled_convolution_op, _jit_compiled_convolution_op, _update_step_xla while saving (showing 3 of 3). These functions will not be directly callable after loading.\n"
          ]
        },
        {
          "name": "stdout",
          "output_type": "stream",
          "text": [
            "INFO:tensorflow:Assets written to: ckpt/checkpoint\\2D_200_class\\assets\n"
          ]
        },
        {
          "name": "stderr",
          "output_type": "stream",
          "text": [
            "INFO:tensorflow:Assets written to: ckpt/checkpoint\\2D_200_class\\assets\n"
          ]
        },
        {
          "name": "stdout",
          "output_type": "stream",
          "text": [
            "126/126 [==============================] - 45s 355ms/step - loss: 4.7507 - categorical_accuracy: 0.0523 - val_loss: 4.7950 - val_categorical_accuracy: 0.0450\n",
            "Epoch 24/30\n",
            "126/126 [==============================] - ETA: 0s - loss: 4.7029 - categorical_accuracy: 0.0555"
          ]
        },
        {
          "name": "stderr",
          "output_type": "stream",
          "text": [
            "WARNING:absl:Found untraced functions such as _jit_compiled_convolution_op, _jit_compiled_convolution_op, _update_step_xla while saving (showing 3 of 3). These functions will not be directly callable after loading.\n"
          ]
        },
        {
          "name": "stdout",
          "output_type": "stream",
          "text": [
            "INFO:tensorflow:Assets written to: ckpt/checkpoint\\2D_200_class\\assets\n"
          ]
        },
        {
          "name": "stderr",
          "output_type": "stream",
          "text": [
            "INFO:tensorflow:Assets written to: ckpt/checkpoint\\2D_200_class\\assets\n"
          ]
        },
        {
          "name": "stdout",
          "output_type": "stream",
          "text": [
            "126/126 [==============================] - 45s 355ms/step - loss: 4.7029 - categorical_accuracy: 0.0555 - val_loss: 4.7695 - val_categorical_accuracy: 0.0430\n",
            "Epoch 25/30\n",
            "126/126 [==============================] - ETA: 0s - loss: 4.6511 - categorical_accuracy: 0.0600"
          ]
        },
        {
          "name": "stderr",
          "output_type": "stream",
          "text": [
            "WARNING:absl:Found untraced functions such as _jit_compiled_convolution_op, _jit_compiled_convolution_op, _update_step_xla while saving (showing 3 of 3). These functions will not be directly callable after loading.\n"
          ]
        },
        {
          "name": "stdout",
          "output_type": "stream",
          "text": [
            "INFO:tensorflow:Assets written to: ckpt/checkpoint\\2D_200_class\\assets\n"
          ]
        },
        {
          "name": "stderr",
          "output_type": "stream",
          "text": [
            "INFO:tensorflow:Assets written to: ckpt/checkpoint\\2D_200_class\\assets\n"
          ]
        },
        {
          "name": "stdout",
          "output_type": "stream",
          "text": [
            "126/126 [==============================] - 45s 360ms/step - loss: 4.6511 - categorical_accuracy: 0.0600 - val_loss: 4.7053 - val_categorical_accuracy: 0.0480\n",
            "Epoch 26/30\n",
            "126/126 [==============================] - ETA: 0s - loss: 4.6000 - categorical_accuracy: 0.0637"
          ]
        },
        {
          "name": "stderr",
          "output_type": "stream",
          "text": [
            "WARNING:absl:Found untraced functions such as _jit_compiled_convolution_op, _jit_compiled_convolution_op, _update_step_xla while saving (showing 3 of 3). These functions will not be directly callable after loading.\n"
          ]
        },
        {
          "name": "stdout",
          "output_type": "stream",
          "text": [
            "INFO:tensorflow:Assets written to: ckpt/checkpoint\\2D_200_class\\assets\n"
          ]
        },
        {
          "name": "stderr",
          "output_type": "stream",
          "text": [
            "INFO:tensorflow:Assets written to: ckpt/checkpoint\\2D_200_class\\assets\n"
          ]
        },
        {
          "name": "stdout",
          "output_type": "stream",
          "text": [
            "126/126 [==============================] - 44s 351ms/step - loss: 4.6000 - categorical_accuracy: 0.0637 - val_loss: 4.6529 - val_categorical_accuracy: 0.0510\n",
            "Epoch 27/30\n",
            "126/126 [==============================] - ETA: 0s - loss: 4.5463 - categorical_accuracy: 0.0696"
          ]
        },
        {
          "name": "stderr",
          "output_type": "stream",
          "text": [
            "WARNING:absl:Found untraced functions such as _jit_compiled_convolution_op, _jit_compiled_convolution_op, _update_step_xla while saving (showing 3 of 3). These functions will not be directly callable after loading.\n"
          ]
        },
        {
          "name": "stdout",
          "output_type": "stream",
          "text": [
            "INFO:tensorflow:Assets written to: ckpt/checkpoint\\2D_200_class\\assets\n"
          ]
        },
        {
          "name": "stderr",
          "output_type": "stream",
          "text": [
            "INFO:tensorflow:Assets written to: ckpt/checkpoint\\2D_200_class\\assets\n"
          ]
        },
        {
          "name": "stdout",
          "output_type": "stream",
          "text": [
            "126/126 [==============================] - 43s 343ms/step - loss: 4.5463 - categorical_accuracy: 0.0696 - val_loss: 4.6022 - val_categorical_accuracy: 0.0520\n",
            "Epoch 28/30\n",
            "126/126 [==============================] - ETA: 0s - loss: 4.4938 - categorical_accuracy: 0.0753"
          ]
        },
        {
          "name": "stderr",
          "output_type": "stream",
          "text": [
            "WARNING:absl:Found untraced functions such as _jit_compiled_convolution_op, _jit_compiled_convolution_op, _update_step_xla while saving (showing 3 of 3). These functions will not be directly callable after loading.\n"
          ]
        },
        {
          "name": "stdout",
          "output_type": "stream",
          "text": [
            "INFO:tensorflow:Assets written to: ckpt/checkpoint\\2D_200_class\\assets\n"
          ]
        },
        {
          "name": "stderr",
          "output_type": "stream",
          "text": [
            "INFO:tensorflow:Assets written to: ckpt/checkpoint\\2D_200_class\\assets\n"
          ]
        },
        {
          "name": "stdout",
          "output_type": "stream",
          "text": [
            "126/126 [==============================] - 46s 366ms/step - loss: 4.4938 - categorical_accuracy: 0.0753 - val_loss: 4.5700 - val_categorical_accuracy: 0.0630\n",
            "Epoch 29/30\n",
            "126/126 [==============================] - ETA: 0s - loss: 4.4452 - categorical_accuracy: 0.0815"
          ]
        },
        {
          "name": "stderr",
          "output_type": "stream",
          "text": [
            "WARNING:absl:Found untraced functions such as _jit_compiled_convolution_op, _jit_compiled_convolution_op, _update_step_xla while saving (showing 3 of 3). These functions will not be directly callable after loading.\n"
          ]
        },
        {
          "name": "stdout",
          "output_type": "stream",
          "text": [
            "INFO:tensorflow:Assets written to: ckpt/checkpoint\\2D_200_class\\assets\n"
          ]
        },
        {
          "name": "stderr",
          "output_type": "stream",
          "text": [
            "INFO:tensorflow:Assets written to: ckpt/checkpoint\\2D_200_class\\assets\n"
          ]
        },
        {
          "name": "stdout",
          "output_type": "stream",
          "text": [
            "126/126 [==============================] - 47s 374ms/step - loss: 4.4452 - categorical_accuracy: 0.0815 - val_loss: 4.5315 - val_categorical_accuracy: 0.0680\n",
            "Epoch 30/30\n",
            "126/126 [==============================] - ETA: 0s - loss: 4.3960 - categorical_accuracy: 0.0862"
          ]
        },
        {
          "name": "stderr",
          "output_type": "stream",
          "text": [
            "WARNING:absl:Found untraced functions such as _jit_compiled_convolution_op, _jit_compiled_convolution_op, _update_step_xla while saving (showing 3 of 3). These functions will not be directly callable after loading.\n"
          ]
        },
        {
          "name": "stdout",
          "output_type": "stream",
          "text": [
            "INFO:tensorflow:Assets written to: ckpt/checkpoint\\2D_200_class\\assets\n"
          ]
        },
        {
          "name": "stderr",
          "output_type": "stream",
          "text": [
            "INFO:tensorflow:Assets written to: ckpt/checkpoint\\2D_200_class\\assets\n"
          ]
        },
        {
          "name": "stdout",
          "output_type": "stream",
          "text": [
            "126/126 [==============================] - 48s 376ms/step - loss: 4.3960 - categorical_accuracy: 0.0862 - val_loss: 4.5077 - val_categorical_accuracy: 0.0650\n"
          ]
        },
        {
          "data": {
            "text/plain": [
              "<keras.callbacks.History at 0x14de2dd5ed0>"
            ]
          },
          "execution_count": 68,
          "metadata": {},
          "output_type": "execute_result"
        }
      ],
      "source": [
        "#Train the models\n",
        "\n",
        "model.fit(train_images, epochs=30, validation_data= val_images, callbacks=[checkpoint])\n",
        "#augmentedDataModel.fit(x=x_train_aug, y=y_train_aug, batch_size=512, epochs=5)"
      ]
    },
    {
      "cell_type": "markdown",
      "metadata": {
        "id": "7Pc0eHFFpMWr"
      },
      "source": [
        "Test the model"
      ]
    },
    {
      "cell_type": "code",
      "execution_count": 69,
      "metadata": {
        "id": "SlGesuGepN8f"
      },
      "outputs": [
        {
          "name": "stdout",
          "output_type": "stream",
          "text": [
            "4/4 [==============================] - 1s 338ms/step - loss: 4.4873 - categorical_accuracy: 0.0810\n",
            "4/4 [==============================] - 1s 325ms/step - loss: 4.4873 - categorical_accuracy: 0.0810\n"
          ]
        },
        {
          "data": {
            "text/plain": [
              "[4.487293720245361, 0.08100000023841858]"
            ]
          },
          "execution_count": 69,
          "metadata": {},
          "output_type": "execute_result"
        }
      ],
      "source": [
        "loss, acc = model.evaluate(test_images)\n",
        "model.evaluate(test_images)"
      ]
    },
    {
      "cell_type": "code",
      "execution_count": 70,
      "metadata": {},
      "outputs": [
        {
          "name": "stderr",
          "output_type": "stream",
          "text": [
            "WARNING:absl:Found untraced functions such as _jit_compiled_convolution_op, _jit_compiled_convolution_op, _update_step_xla while saving (showing 3 of 3). These functions will not be directly callable after loading.\n"
          ]
        },
        {
          "name": "stdout",
          "output_type": "stream",
          "text": [
            "INFO:tensorflow:Assets written to: Models/2D_200_class\\assets\n"
          ]
        },
        {
          "name": "stderr",
          "output_type": "stream",
          "text": [
            "INFO:tensorflow:Assets written to: Models/2D_200_class\\assets\n"
          ]
        }
      ],
      "source": [
        "model.save(\"Models/2D_200_class\")"
      ]
    },
    {
      "cell_type": "markdown",
      "metadata": {
        "id": "qOCxIE5Yt6Za"
      },
      "source": [
        "Show the model Results"
      ]
    },
    {
      "cell_type": "code",
      "execution_count": 3,
      "metadata": {},
      "outputs": [],
      "source": [
        "loaded_model = tf.keras.models.load_model(\"Models/3D_515_class\")"
      ]
    },
    {
      "cell_type": "code",
      "execution_count": 4,
      "metadata": {},
      "outputs": [
        {
          "name": "stdout",
          "output_type": "stream",
          "text": [
            "Model: \"sequential_8\"\n",
            "_________________________________________________________________\n",
            " Layer (type)                Output Shape              Param #   \n",
            "=================================================================\n",
            " reshape (Reshape)           (None, 1, 64, 64, 3)      0         \n",
            "                                                                 \n",
            " conv1 (Conv3D)              (None, 1, 32, 32, 32)     2624      \n",
            "                                                                 \n",
            " pool1 (MaxPooling3D)        (None, 1, 16, 16, 32)     0         \n",
            "                                                                 \n",
            " conv2 (Conv3D)              (None, 1, 8, 8, 64)       55360     \n",
            "                                                                 \n",
            " pool2 (MaxPooling3D)        (None, 1, 4, 4, 64)       0         \n",
            "                                                                 \n",
            " flat (Flatten)              (None, 1024)              0         \n",
            "                                                                 \n",
            " dense1 (Dense)              (None, 100)               102500    \n",
            "                                                                 \n",
            " dense3 (Dense)              (None, 515)               52015     \n",
            "                                                                 \n",
            "=================================================================\n",
            "Total params: 212,499\n",
            "Trainable params: 212,499\n",
            "Non-trainable params: 0\n",
            "_________________________________________________________________\n"
          ]
        }
      ],
      "source": [
        "loaded_model.summary()"
      ]
    },
    {
      "cell_type": "code",
      "execution_count": 78,
      "metadata": {},
      "outputs": [
        {
          "name": "stdout",
          "output_type": "stream",
          "text": [
            "324/324 [==============================] - 114s 349ms/step - loss: 2.1496 - categorical_accuracy: 0.4915\n",
            "11/11 [==============================] - 4s 323ms/step - loss: 2.5273 - categorical_accuracy: 0.4369\n",
            "11/11 [==============================] - 4s 326ms/step - loss: 2.3404 - categorical_accuracy: 0.4649\n"
          ]
        },
        {
          "data": {
            "text/plain": [
              "[2.3404181003570557, 0.46485435962677]"
            ]
          },
          "execution_count": 78,
          "metadata": {},
          "output_type": "execute_result"
        }
      ],
      "source": [
        "loaded_model.evaluate(train_images_rgb)\n",
        "loaded_model.evaluate(val_images_rgb)\n",
        "loaded_model.evaluate(test_images_rgb)"
      ]
    },
    {
      "attachments": {},
      "cell_type": "markdown",
      "metadata": {},
      "source": [
        "Self transfer learning"
      ]
    },
    {
      "cell_type": "code",
      "execution_count": 92,
      "metadata": {},
      "outputs": [
        {
          "name": "stdout",
          "output_type": "stream",
          "text": [
            "Model: \"model_7\"\n",
            "_________________________________________________________________\n",
            " Layer (type)                Output Shape              Param #   \n",
            "=================================================================\n",
            " reshape_input (InputLayer)  [(None, 64, 64, 3)]       0         \n",
            "                                                                 \n",
            " reshape (Reshape)           (None, 1, 64, 64, 3)      0         \n",
            "                                                                 \n",
            " conv1 (Conv3D)              (None, 1, 32, 32, 32)     2624      \n",
            "                                                                 \n",
            " pool1 (MaxPooling3D)        (None, 1, 16, 16, 32)     0         \n",
            "                                                                 \n",
            " conv2 (Conv3D)              (None, 1, 8, 8, 64)       55360     \n",
            "                                                                 \n",
            " pool2 (MaxPooling3D)        (None, 1, 4, 4, 64)       0         \n",
            "                                                                 \n",
            " flat (Flatten)              (None, 1024)              0         \n",
            "                                                                 \n",
            " dense_28 (Dense)            (None, 100)               102500    \n",
            "                                                                 \n",
            " dense_29 (Dense)            (None, 515)               52015     \n",
            "                                                                 \n",
            "=================================================================\n",
            "Total params: 212,499\n",
            "Trainable params: 154,515\n",
            "Non-trainable params: 57,984\n",
            "_________________________________________________________________\n"
          ]
        }
      ],
      "source": [
        "base_model = tf.keras.models.load_model(\"Models/3D_200_class\")\n",
        "base_model.trainable = False\n",
        "x = base_model.layers[-3].output\n",
        "\n",
        "x = tf.keras.layers.Dense(100, activation=\"relu\")(x)\n",
        "predictor_head = tf.keras.layers.Dense(515, activation=\"softmax\")(x)\n",
        "\n",
        "ckpt_path = \"ckpt/checkpoint/3D_515_class_transfer\"\n",
        "checkpoint = tf.keras.callbacks.ModelCheckpoint(filepath=ckpt_path)\n",
        "transfer_model = tf.keras.Model(inputs=base_model.input, outputs = predictor_head)\n",
        "optimizer = tf.optimizers.Adam(learning_rate = 0.0001)\n",
        "loss_fn = tf.losses.CategoricalCrossentropy()\n",
        "acc_fn = tf.metrics.CategoricalAccuracy()\n",
        "checkpoint = tf.keras.callbacks.ModelCheckpoint(filepath=ckpt_path)\n",
        "transfer_model.compile(optimizer, loss_fn, metrics = [acc_fn])\n",
        "transfer_model.summary()"
      ]
    },
    {
      "cell_type": "code",
      "execution_count": 153,
      "metadata": {},
      "outputs": [
        {
          "name": "stdout",
          "output_type": "stream",
          "text": [
            "Epoch 1/10\n",
            "324/324 [==============================] - ETA: 0s - loss: 6.0494 - categorical_accuracy: 0.0315"
          ]
        },
        {
          "name": "stderr",
          "output_type": "stream",
          "text": [
            "WARNING:absl:Found untraced functions such as _jit_compiled_convolution_op, _jit_compiled_convolution_op, _jit_compiled_convolution_op, _jit_compiled_convolution_op, _jit_compiled_convolution_op while saving (showing 5 of 173). These functions will not be directly callable after loading.\n"
          ]
        },
        {
          "name": "stdout",
          "output_type": "stream",
          "text": [
            "INFO:tensorflow:Assets written to: ckpt/checkpoint\\ResNet101_transfer_64_64\\assets\n"
          ]
        },
        {
          "name": "stderr",
          "output_type": "stream",
          "text": [
            "INFO:tensorflow:Assets written to: ckpt/checkpoint\\ResNet101_transfer_64_64\\assets\n"
          ]
        },
        {
          "name": "stdout",
          "output_type": "stream",
          "text": [
            "324/324 [==============================] - 556s 2s/step - loss: 6.0494 - categorical_accuracy: 0.0315 - val_loss: 5.6783 - val_categorical_accuracy: 0.0761\n",
            "Epoch 2/10\n",
            "324/324 [==============================] - ETA: 0s - loss: 5.0892 - categorical_accuracy: 0.1521"
          ]
        },
        {
          "name": "stderr",
          "output_type": "stream",
          "text": [
            "WARNING:absl:Found untraced functions such as _jit_compiled_convolution_op, _jit_compiled_convolution_op, _jit_compiled_convolution_op, _jit_compiled_convolution_op, _jit_compiled_convolution_op while saving (showing 5 of 173). These functions will not be directly callable after loading.\n"
          ]
        },
        {
          "name": "stdout",
          "output_type": "stream",
          "text": [
            "INFO:tensorflow:Assets written to: ckpt/checkpoint\\ResNet101_transfer_64_64\\assets\n"
          ]
        },
        {
          "name": "stderr",
          "output_type": "stream",
          "text": [
            "INFO:tensorflow:Assets written to: ckpt/checkpoint\\ResNet101_transfer_64_64\\assets\n"
          ]
        },
        {
          "name": "stdout",
          "output_type": "stream",
          "text": [
            "324/324 [==============================] - 538s 2s/step - loss: 5.0892 - categorical_accuracy: 0.1521 - val_loss: 4.4702 - val_categorical_accuracy: 0.2400\n",
            "Epoch 3/10\n",
            "324/324 [==============================] - ETA: 0s - loss: 4.0082 - categorical_accuracy: 0.3008"
          ]
        },
        {
          "name": "stderr",
          "output_type": "stream",
          "text": [
            "WARNING:absl:Found untraced functions such as _jit_compiled_convolution_op, _jit_compiled_convolution_op, _jit_compiled_convolution_op, _jit_compiled_convolution_op, _jit_compiled_convolution_op while saving (showing 5 of 173). These functions will not be directly callable after loading.\n"
          ]
        },
        {
          "name": "stdout",
          "output_type": "stream",
          "text": [
            "INFO:tensorflow:Assets written to: ckpt/checkpoint\\ResNet101_transfer_64_64\\assets\n"
          ]
        },
        {
          "name": "stderr",
          "output_type": "stream",
          "text": [
            "INFO:tensorflow:Assets written to: ckpt/checkpoint\\ResNet101_transfer_64_64\\assets\n"
          ]
        },
        {
          "name": "stdout",
          "output_type": "stream",
          "text": [
            "324/324 [==============================] - 579s 2s/step - loss: 4.0082 - categorical_accuracy: 0.3008 - val_loss: 3.5463 - val_categorical_accuracy: 0.3650\n",
            "Epoch 4/10\n",
            "324/324 [==============================] - ETA: 0s - loss: 3.2879 - categorical_accuracy: 0.3949"
          ]
        },
        {
          "name": "stderr",
          "output_type": "stream",
          "text": [
            "WARNING:absl:Found untraced functions such as _jit_compiled_convolution_op, _jit_compiled_convolution_op, _jit_compiled_convolution_op, _jit_compiled_convolution_op, _jit_compiled_convolution_op while saving (showing 5 of 173). These functions will not be directly callable after loading.\n"
          ]
        },
        {
          "name": "stdout",
          "output_type": "stream",
          "text": [
            "INFO:tensorflow:Assets written to: ckpt/checkpoint\\ResNet101_transfer_64_64\\assets\n"
          ]
        },
        {
          "name": "stderr",
          "output_type": "stream",
          "text": [
            "INFO:tensorflow:Assets written to: ckpt/checkpoint\\ResNet101_transfer_64_64\\assets\n"
          ]
        },
        {
          "name": "stdout",
          "output_type": "stream",
          "text": [
            "324/324 [==============================] - 568s 2s/step - loss: 3.2879 - categorical_accuracy: 0.3949 - val_loss: 2.9500 - val_categorical_accuracy: 0.4416\n",
            "Epoch 5/10\n",
            "324/324 [==============================] - ETA: 0s - loss: 2.8249 - categorical_accuracy: 0.4564"
          ]
        },
        {
          "name": "stderr",
          "output_type": "stream",
          "text": [
            "WARNING:absl:Found untraced functions such as _jit_compiled_convolution_op, _jit_compiled_convolution_op, _jit_compiled_convolution_op, _jit_compiled_convolution_op, _jit_compiled_convolution_op while saving (showing 5 of 173). These functions will not be directly callable after loading.\n"
          ]
        },
        {
          "name": "stdout",
          "output_type": "stream",
          "text": [
            "INFO:tensorflow:Assets written to: ckpt/checkpoint\\ResNet101_transfer_64_64\\assets\n"
          ]
        },
        {
          "name": "stderr",
          "output_type": "stream",
          "text": [
            "INFO:tensorflow:Assets written to: ckpt/checkpoint\\ResNet101_transfer_64_64\\assets\n"
          ]
        },
        {
          "name": "stdout",
          "output_type": "stream",
          "text": [
            "324/324 [==============================] - 545s 2s/step - loss: 2.8249 - categorical_accuracy: 0.4564 - val_loss: 2.5578 - val_categorical_accuracy: 0.4948\n",
            "Epoch 6/10\n",
            "324/324 [==============================] - ETA: 0s - loss: 2.5097 - categorical_accuracy: 0.4982"
          ]
        },
        {
          "name": "stderr",
          "output_type": "stream",
          "text": [
            "WARNING:absl:Found untraced functions such as _jit_compiled_convolution_op, _jit_compiled_convolution_op, _jit_compiled_convolution_op, _jit_compiled_convolution_op, _jit_compiled_convolution_op while saving (showing 5 of 173). These functions will not be directly callable after loading.\n"
          ]
        },
        {
          "name": "stdout",
          "output_type": "stream",
          "text": [
            "INFO:tensorflow:Assets written to: ckpt/checkpoint\\ResNet101_transfer_64_64\\assets\n"
          ]
        },
        {
          "name": "stderr",
          "output_type": "stream",
          "text": [
            "INFO:tensorflow:Assets written to: ckpt/checkpoint\\ResNet101_transfer_64_64\\assets\n"
          ]
        },
        {
          "name": "stdout",
          "output_type": "stream",
          "text": [
            "324/324 [==============================] - 539s 2s/step - loss: 2.5097 - categorical_accuracy: 0.4982 - val_loss: 2.2775 - val_categorical_accuracy: 0.5390\n",
            "Epoch 7/10\n",
            "324/324 [==============================] - ETA: 0s - loss: 2.2823 - categorical_accuracy: 0.5315"
          ]
        },
        {
          "name": "stderr",
          "output_type": "stream",
          "text": [
            "WARNING:absl:Found untraced functions such as _jit_compiled_convolution_op, _jit_compiled_convolution_op, _jit_compiled_convolution_op, _jit_compiled_convolution_op, _jit_compiled_convolution_op while saving (showing 5 of 173). These functions will not be directly callable after loading.\n"
          ]
        },
        {
          "name": "stdout",
          "output_type": "stream",
          "text": [
            "INFO:tensorflow:Assets written to: ckpt/checkpoint\\ResNet101_transfer_64_64\\assets\n"
          ]
        },
        {
          "name": "stderr",
          "output_type": "stream",
          "text": [
            "INFO:tensorflow:Assets written to: ckpt/checkpoint\\ResNet101_transfer_64_64\\assets\n"
          ]
        },
        {
          "name": "stdout",
          "output_type": "stream",
          "text": [
            "324/324 [==============================] - 586s 2s/step - loss: 2.2823 - categorical_accuracy: 0.5315 - val_loss: 2.0738 - val_categorical_accuracy: 0.5662\n",
            "Epoch 8/10\n",
            "324/324 [==============================] - ETA: 0s - loss: 2.1104 - categorical_accuracy: 0.5567"
          ]
        },
        {
          "name": "stderr",
          "output_type": "stream",
          "text": [
            "WARNING:absl:Found untraced functions such as _jit_compiled_convolution_op, _jit_compiled_convolution_op, _jit_compiled_convolution_op, _jit_compiled_convolution_op, _jit_compiled_convolution_op while saving (showing 5 of 173). These functions will not be directly callable after loading.\n"
          ]
        },
        {
          "name": "stdout",
          "output_type": "stream",
          "text": [
            "INFO:tensorflow:Assets written to: ckpt/checkpoint\\ResNet101_transfer_64_64\\assets\n"
          ]
        },
        {
          "name": "stderr",
          "output_type": "stream",
          "text": [
            "INFO:tensorflow:Assets written to: ckpt/checkpoint\\ResNet101_transfer_64_64\\assets\n"
          ]
        },
        {
          "name": "stdout",
          "output_type": "stream",
          "text": [
            "324/324 [==============================] - 552s 2s/step - loss: 2.1104 - categorical_accuracy: 0.5567 - val_loss: 1.9192 - val_categorical_accuracy: 0.5864\n",
            "Epoch 9/10\n",
            "324/324 [==============================] - ETA: 0s - loss: 1.9746 - categorical_accuracy: 0.5786"
          ]
        },
        {
          "name": "stderr",
          "output_type": "stream",
          "text": [
            "WARNING:absl:Found untraced functions such as _jit_compiled_convolution_op, _jit_compiled_convolution_op, _jit_compiled_convolution_op, _jit_compiled_convolution_op, _jit_compiled_convolution_op while saving (showing 5 of 173). These functions will not be directly callable after loading.\n"
          ]
        },
        {
          "name": "stdout",
          "output_type": "stream",
          "text": [
            "INFO:tensorflow:Assets written to: ckpt/checkpoint\\ResNet101_transfer_64_64\\assets\n"
          ]
        },
        {
          "name": "stderr",
          "output_type": "stream",
          "text": [
            "INFO:tensorflow:Assets written to: ckpt/checkpoint\\ResNet101_transfer_64_64\\assets\n"
          ]
        },
        {
          "name": "stdout",
          "output_type": "stream",
          "text": [
            "324/324 [==============================] - 534s 2s/step - loss: 1.9746 - categorical_accuracy: 0.5786 - val_loss: 1.7950 - val_categorical_accuracy: 0.6148\n",
            "Epoch 10/10\n",
            "324/324 [==============================] - ETA: 0s - loss: 1.8636 - categorical_accuracy: 0.5968"
          ]
        },
        {
          "name": "stderr",
          "output_type": "stream",
          "text": [
            "WARNING:absl:Found untraced functions such as _jit_compiled_convolution_op, _jit_compiled_convolution_op, _jit_compiled_convolution_op, _jit_compiled_convolution_op, _jit_compiled_convolution_op while saving (showing 5 of 173). These functions will not be directly callable after loading.\n"
          ]
        },
        {
          "name": "stdout",
          "output_type": "stream",
          "text": [
            "INFO:tensorflow:Assets written to: ckpt/checkpoint\\ResNet101_transfer_64_64\\assets\n"
          ]
        },
        {
          "name": "stderr",
          "output_type": "stream",
          "text": [
            "INFO:tensorflow:Assets written to: ckpt/checkpoint\\ResNet101_transfer_64_64\\assets\n"
          ]
        },
        {
          "name": "stdout",
          "output_type": "stream",
          "text": [
            "324/324 [==============================] - 564s 2s/step - loss: 1.8636 - categorical_accuracy: 0.5968 - val_loss: 1.7008 - val_categorical_accuracy: 0.6330\n"
          ]
        },
        {
          "data": {
            "text/plain": [
              "<keras.callbacks.History at 0x1503b143fd0>"
            ]
          },
          "execution_count": 153,
          "metadata": {},
          "output_type": "execute_result"
        }
      ],
      "source": [
        "transfer_model.fit(train_images_rgb, epochs=10, validation_data= val_images_rgb, callbacks=[checkpoint])"
      ]
    },
    {
      "cell_type": "code",
      "execution_count": 154,
      "metadata": {},
      "outputs": [
        {
          "name": "stdout",
          "output_type": "stream",
          "text": [
            "11/11 [==============================] - 17s 1s/step - loss: 1.6337 - categorical_accuracy: 0.6357\n"
          ]
        },
        {
          "data": {
            "text/plain": [
              "[1.633689522743225, 0.6357281804084778]"
            ]
          },
          "execution_count": 154,
          "metadata": {},
          "output_type": "execute_result"
        }
      ],
      "source": [
        "transfer_model.evaluate(test_images_rgb)"
      ]
    },
    {
      "cell_type": "code",
      "execution_count": 155,
      "metadata": {},
      "outputs": [
        {
          "name": "stderr",
          "output_type": "stream",
          "text": [
            "WARNING:absl:Found untraced functions such as _jit_compiled_convolution_op, _jit_compiled_convolution_op, _jit_compiled_convolution_op, _jit_compiled_convolution_op, _jit_compiled_convolution_op while saving (showing 5 of 173). These functions will not be directly callable after loading.\n"
          ]
        },
        {
          "name": "stdout",
          "output_type": "stream",
          "text": [
            "INFO:tensorflow:Assets written to: Models/ResNet101_transfer_64_64\\assets\n"
          ]
        },
        {
          "name": "stderr",
          "output_type": "stream",
          "text": [
            "INFO:tensorflow:Assets written to: Models/ResNet101_transfer_64_64\\assets\n"
          ]
        }
      ],
      "source": [
        "transfer_model.save(\"Models/ResNet101_transfer_64_64\")"
      ]
    },
    {
      "attachments": {},
      "cell_type": "markdown",
      "metadata": {},
      "source": [
        "Transformer Section\n",
        "Model architecture from https://keras.io/examples/vision/image_classification_with_vision_transformer/"
      ]
    },
    {
      "cell_type": "code",
      "execution_count": 54,
      "metadata": {},
      "outputs": [],
      "source": [
        "input_shape = (64,64,3)\n",
        "num_classes = 515\n",
        "learning_rate = 0.001\n",
        "weight_decay = 0.0001\n",
        "batch_size = 256\n",
        "num_epochs = 5\n",
        "image_size = 64 \n",
        "patch_size = 4 \n",
        "num_patches = (image_size // patch_size) ** 2\n",
        "projection_dim = 64\n",
        "num_heads = 2\n",
        "transformer_units = [\n",
        "    projection_dim * 2,\n",
        "    projection_dim,\n",
        "] \n",
        "transformer_layers = 2\n",
        "mlp_head_units = [50, 100]"
      ]
    },
    {
      "cell_type": "code",
      "execution_count": 55,
      "metadata": {},
      "outputs": [],
      "source": [
        "def mlp(x, hidden_units, dropout_rate):\n",
        "    for units in hidden_units:\n",
        "        x = tf.keras.layers.Dense(units, activation=tf.nn.gelu)(x)\n",
        "        x = tf.keras.layers.Dropout(dropout_rate)(x)\n",
        "    return x\n",
        "\n",
        "class Patches(tf.keras.layers.Layer):\n",
        "    def __init__(self, patch_size):\n",
        "        super().__init__()\n",
        "        self.patch_size = patch_size\n",
        "\n",
        "    def call(self, images):\n",
        "        batch_size = tf.shape(images)[0]\n",
        "        patches = tf.image.extract_patches(\n",
        "            images=images,\n",
        "            sizes=[1, self.patch_size, self.patch_size, 1],\n",
        "            strides=[1, self.patch_size, self.patch_size, 1],\n",
        "            rates=[1, 1, 1, 1],\n",
        "            padding=\"VALID\",\n",
        "        )\n",
        "        patch_dims = patches.shape[-1]\n",
        "        patches = tf.reshape(patches, [batch_size, -1, patch_dims])\n",
        "        return patches\n"
      ]
    },
    {
      "cell_type": "code",
      "execution_count": 48,
      "metadata": {},
      "outputs": [
        {
          "name": "stdout",
          "output_type": "stream",
          "text": [
            "(64, 64, 3)\n"
          ]
        }
      ],
      "source": [
        "print(train_images_rgb.next()[0][0].shape)"
      ]
    },
    {
      "cell_type": "code",
      "execution_count": 49,
      "metadata": {},
      "outputs": [
        {
          "name": "stdout",
          "output_type": "stream",
          "text": [
            "Image size: 64 X 64\n",
            "Patch size: 4 X 4\n",
            "Patches per image: 256\n",
            "Elements per patch: 48\n"
          ]
        },
        {
          "data": {
            "image/png": "[encoded data removed]",
            "text/plain": [
              "<Figure size 400x400 with 1 Axes>"
            ]
          },
          "metadata": {},
          "output_type": "display_data"
        },
        {
          "data": {
            "image/png": "[encoded data removed]",
            "text/plain": [
              "<Figure size 400x400 with 256 Axes>"
            ]
          },
          "metadata": {},
          "output_type": "display_data"
        }
      ],
      "source": [
        "plt.figure(figsize=(4, 4))\n",
        "image = train_images_rgb.next()[0][0]\n",
        "plt.imshow(image.astype(\"uint8\"))\n",
        "plt.axis(\"off\")\n",
        "\n",
        "resized_image = tf.image.resize(\n",
        "    tf.convert_to_tensor([image]), size=(image_size, image_size)\n",
        ")\n",
        "patches = Patches(patch_size)(resized_image)\n",
        "print(f\"Image size: {image_size} X {image_size}\")\n",
        "print(f\"Patch size: {patch_size} X {patch_size}\")\n",
        "print(f\"Patches per image: {patches.shape[1]}\")\n",
        "print(f\"Elements per patch: {patches.shape[-1]}\")\n",
        "\n",
        "n = int(np.sqrt(patches.shape[1]))\n",
        "plt.figure(figsize=(4, 4))\n",
        "for i, patch in enumerate(patches[0]):\n",
        "    ax = plt.subplot(n, n, i + 1)\n",
        "    patch_img = tf.reshape(patch, (patch_size, patch_size, 3))\n",
        "    plt.imshow(patch_img.numpy().astype(\"uint8\"))\n",
        "    plt.axis(\"off\")\n"
      ]
    },
    {
      "cell_type": "code",
      "execution_count": 56,
      "metadata": {},
      "outputs": [],
      "source": [
        "#Do not perform augmentation to be consistent with the CNN model above\n",
        "\n",
        "data_augmentation = tf.keras.Sequential(\n",
        "    [\n",
        "        tf.keras.layers.Normalization(),\n",
        "        tf.keras.layers.Resizing(image_size, image_size)\n",
        "    ],\n",
        "    name=\"data_augmentation\",\n",
        ")"
      ]
    },
    {
      "cell_type": "code",
      "execution_count": 57,
      "metadata": {},
      "outputs": [],
      "source": [
        "class PatchEncoder(tf.keras.layers.Layer):\n",
        "    def __init__(self, num_patches, projection_dim):\n",
        "        super().__init__()\n",
        "        self.num_patches = num_patches\n",
        "        self.projection = tf.keras.layers.Dense(units=projection_dim)\n",
        "        self.position_embedding = tf.keras.layers.Embedding(\n",
        "            input_dim=num_patches, output_dim=projection_dim\n",
        "        )\n",
        "\n",
        "    def call(self, patch):\n",
        "        positions = tf.range(start=0, limit=self.num_patches, delta=1)\n",
        "        encoded = self.projection(patch) + self.position_embedding(positions)\n",
        "        return encoded\n",
        "\n",
        "def create_vit_classifier():\n",
        "    inputs = tf.keras.layers.Input(shape=input_shape)\n",
        "    augmented = data_augmentation(inputs)\n",
        "    # Create patches.\n",
        "    patches = Patches(patch_size)(augmented)\n",
        "    # Encode patches.\n",
        "    encoded_patches = PatchEncoder(num_patches, projection_dim)(patches)\n",
        "\n",
        "    # Create multiple layers of the Transformer block.\n",
        "    for _ in range(transformer_layers):\n",
        "        # Layer normalization 1.\n",
        "        x1 = tf.keras.layers.LayerNormalization(epsilon=1e-6)(encoded_patches)\n",
        "        # Create a multi-head attention layer.\n",
        "        attention_output = tf.keras.layers.MultiHeadAttention(\n",
        "            num_heads=num_heads, key_dim=projection_dim, dropout=0.1\n",
        "        )(x1, x1)\n",
        "        # Skip connection 1.\n",
        "        x2 = tf.keras.layers.Add()([attention_output, encoded_patches])\n",
        "        # Layer normalization 2.\n",
        "        x3 = tf.keras.layers.LayerNormalization(epsilon=1e-6)(x2)\n",
        "        # MLP.\n",
        "        x3 = mlp(x3, hidden_units=transformer_units, dropout_rate=0.1)\n",
        "        # Skip connection 2.\n",
        "        encoded_patches = tf.keras.layers.Add()([x3, x2])\n",
        "\n",
        "    # Create a [batch_size, projection_dim] tensor.\n",
        "    representation = tf.keras.layers.LayerNormalization(epsilon=1e-6)(encoded_patches)\n",
        "    representation = tf.keras.layers.Flatten()(representation)\n",
        "    representation = tf.keras.layers.Dropout(0.5)(representation)\n",
        "    # Add MLP.\n",
        "    features = mlp(representation, hidden_units=mlp_head_units, dropout_rate=0.5)\n",
        "    # Classify outputs.\n",
        "    logits = tf.keras.layers.Dense(num_classes)(features)\n",
        "    # Create the Keras model.\n",
        "    model = tf.keras.Model(inputs=inputs, outputs=logits)\n",
        "    return model\n"
      ]
    },
    {
      "cell_type": "code",
      "execution_count": 58,
      "metadata": {},
      "outputs": [
        {
          "name": "stdout",
          "output_type": "stream",
          "text": [
            "Epoch 1/5\n",
            "324/324 [==============================] - 1040s 3s/step - loss: 6.2502 - accuracy: 0.0028 - top-5-accuracy: 0.0131 - val_loss: 6.2447 - val_accuracy: 0.0019 - val_top-5-accuracy: 0.0097\n",
            "Epoch 2/5\n",
            "324/324 [==============================] - 1027s 3s/step - loss: 6.2405 - accuracy: 0.0032 - top-5-accuracy: 0.0135 - val_loss: 6.2465 - val_accuracy: 0.0019 - val_top-5-accuracy: 0.0097\n",
            "Epoch 3/5\n",
            "324/324 [==============================] - 1094s 3s/step - loss: 6.2389 - accuracy: 0.0031 - top-5-accuracy: 0.0141 - val_loss: 6.2484 - val_accuracy: 0.0019 - val_top-5-accuracy: 0.0097\n",
            "Epoch 4/5\n",
            "324/324 [==============================] - 1064s 3s/step - loss: 6.2384 - accuracy: 0.0032 - top-5-accuracy: 0.0145 - val_loss: 6.2491 - val_accuracy: 0.0019 - val_top-5-accuracy: 0.0097\n",
            "Epoch 5/5\n",
            "324/324 [==============================] - 1033s 3s/step - loss: 6.2380 - accuracy: 0.0032 - top-5-accuracy: 0.0140 - val_loss: 6.2503 - val_accuracy: 0.0019 - val_top-5-accuracy: 0.0097\n",
            "11/11 [==============================] - 16s 1s/step - loss: 6.2503 - accuracy: 0.0019 - top-5-accuracy: 0.0097\n",
            "Test accuracy: 0.19%\n",
            "Test top 5 accuracy: 0.97%\n"
          ]
        }
      ],
      "source": [
        "def run_experiment(model):\n",
        "    optimizer = tf.optimizers.Adam(\n",
        "        learning_rate=learning_rate, weight_decay=weight_decay\n",
        "    )\n",
        "\n",
        "    model.compile(\n",
        "        optimizer=optimizer,\n",
        "        loss=tf.keras.losses.CategoricalCrossentropy(from_logits=True),\n",
        "        metrics=[\n",
        "            tf.keras.metrics.CategoricalAccuracy(name=\"accuracy\"),\n",
        "            tf.keras.metrics.TopKCategoricalAccuracy(5, name=\"top-5-accuracy\"),\n",
        "        ],\n",
        "    )\n",
        "\n",
        "    checkpoint_filepath = \"/tmp/checkpoint\"\n",
        "\n",
        "    history = model.fit(\n",
        "        train_images_rgb,\n",
        "        batch_size=batch_size,\n",
        "        epochs=num_epochs,\n",
        "        validation_data=val_images_rgb\n",
        "    )\n",
        "\n",
        "    _, accuracy, top_5_accuracy = model.evaluate(test_images_rgb)\n",
        "    print(f\"Test accuracy: {round(accuracy * 100, 2)}%\")\n",
        "    print(f\"Test top 5 accuracy: {round(top_5_accuracy * 100, 2)}%\")\n",
        "\n",
        "    return history\n",
        "\n",
        "\n",
        "vit_classifier = create_vit_classifier()\n",
        "history = run_experiment(vit_classifier)"
      ]
    },
    {
      "cell_type": "code",
      "execution_count": 65,
      "metadata": {},
      "outputs": [],
      "source": [
        "import tensorflow_addons as tfa\n",
        "from vit_keras import vit, utils"
      ]
    },
    {
      "cell_type": "code",
      "execution_count": 74,
      "metadata": {},
      "outputs": [
        {
          "name": "stderr",
          "output_type": "stream",
          "text": [
            "c:\\Users\\anekl\\Documents\\Python Files\\College\\CSC 7760\\.venv\\Lib\\site-packages\\vit_keras\\utils.py:81: UserWarning: Resizing position embeddings from 12, 12 to 2, 2\n",
            "  warnings.warn(\n"
          ]
        }
      ],
      "source": [
        "vit_model = vit.vit_b32(\n",
        "        image_size = (64,64),\n",
        "        activation = 'softmax',\n",
        "        pretrained = True,\n",
        "        include_top = False,\n",
        "        pretrained_top = False,\n",
        "        classes = 515)"
      ]
    },
    {
      "cell_type": "code",
      "execution_count": 75,
      "metadata": {},
      "outputs": [
        {
          "name": "stdout",
          "output_type": "stream",
          "text": [
            "Model: \"vision_transformer\"\n",
            "_________________________________________________________________\n",
            " Layer (type)                Output Shape              Param #   \n",
            "=================================================================\n",
            " vit-b32 (Functional)        (None, 768)               87420672  \n",
            "                                                                 \n",
            " flatten_15 (Flatten)        (None, 768)               0         \n",
            "                                                                 \n",
            " batch_normalization_8 (Batc  (None, 768)              3072      \n",
            " hNormalization)                                                 \n",
            "                                                                 \n",
            " dense_176 (Dense)           (None, 100)               76900     \n",
            "                                                                 \n",
            " batch_normalization_9 (Batc  (None, 100)              400       \n",
            " hNormalization)                                                 \n",
            "                                                                 \n",
            " dense_177 (Dense)           (None, 515)               52015     \n",
            "                                                                 \n",
            "=================================================================\n",
            "Total params: 87,553,059\n",
            "Trainable params: 130,651\n",
            "Non-trainable params: 87,422,408\n",
            "_________________________________________________________________\n"
          ]
        }
      ],
      "source": [
        "vit_model.trainable = False\n",
        "model = tf.keras.Sequential([\n",
        "        vit_model,\n",
        "        tf.keras.layers.Flatten(),\n",
        "        tf.keras.layers.BatchNormalization(),\n",
        "        tf.keras.layers.Dense(100, activation = tfa.activations.gelu),\n",
        "        tf.keras.layers.BatchNormalization(),\n",
        "        tf.keras.layers.Dense(515, 'softmax')\n",
        "    ],\n",
        "    name = 'vision_transformer')\n",
        "\n",
        "model.summary()"
      ]
    },
    {
      "cell_type": "code",
      "execution_count": 77,
      "metadata": {},
      "outputs": [
        {
          "name": "stdout",
          "output_type": "stream",
          "text": [
            "Epoch 1/5\n",
            "324/324 [==============================] - 495s 1s/step - loss: 5.9343 - accuracy: 0.0184 - top-5-accuracy: 0.0621 - val_loss: 5.5055 - val_accuracy: 0.0482 - val_top-5-accuracy: 0.1278\n",
            "Epoch 2/5\n",
            "324/324 [==============================] - 466s 1s/step - loss: 5.3971 - accuracy: 0.0564 - top-5-accuracy: 0.1527 - val_loss: 5.1663 - val_accuracy: 0.0753 - val_top-5-accuracy: 0.1891\n",
            "Epoch 3/5\n",
            "324/324 [==============================] - 459s 1s/step - loss: 5.1253 - accuracy: 0.0821 - top-5-accuracy: 0.2040 - val_loss: 4.9884 - val_accuracy: 0.0955 - val_top-5-accuracy: 0.2283\n",
            "Epoch 4/5\n",
            "324/324 [==============================] - 461s 1s/step - loss: 4.9621 - accuracy: 0.0984 - top-5-accuracy: 0.2332 - val_loss: 4.9073 - val_accuracy: 0.1049 - val_top-5-accuracy: 0.2505\n",
            "Epoch 5/5\n",
            "324/324 [==============================] - 459s 1s/step - loss: 4.8431 - accuracy: 0.1102 - top-5-accuracy: 0.2545 - val_loss: 4.8538 - val_accuracy: 0.1122 - val_top-5-accuracy: 0.2559\n"
          ]
        },
        {
          "data": {
            "text/plain": [
              "<keras.callbacks.History at 0x22afdb12090>"
            ]
          },
          "execution_count": 77,
          "metadata": {},
          "output_type": "execute_result"
        }
      ],
      "source": [
        "model.compile(\n",
        "        optimizer=tf.optimizers.legacy.Adam(),\n",
        "        loss=tf.keras.losses.CategoricalCrossentropy(),\n",
        "        metrics=[\n",
        "            tf.keras.metrics.CategoricalAccuracy(name=\"accuracy\"),\n",
        "            tf.keras.metrics.TopKCategoricalAccuracy(5, name=\"top-5-accuracy\"),\n",
        "        ],\n",
        "    )\n",
        "model.fit(train_images_rgb, validation_data=val_images_rgb, epochs = 5)"
      ]
    },
    {
      "cell_type": "code",
      "execution_count": 79,
      "metadata": {},
      "outputs": [
        {
          "name": "stdout",
          "output_type": "stream",
          "text": [
            "11/11 [==============================] - 16s 1s/step - loss: 4.7343 - accuracy: 0.1200 - top-5-accuracy: 0.2738\n"
          ]
        },
        {
          "data": {
            "text/plain": [
              "[4.73431396484375, 0.11999999731779099, 0.27378639578819275]"
            ]
          },
          "execution_count": 79,
          "metadata": {},
          "output_type": "execute_result"
        }
      ],
      "source": [
        "model.evaluate(test_images_rgb)"
      ]
    },
    {
      "cell_type": "code",
      "execution_count": 39,
      "metadata": {},
      "outputs": [
        {
          "name": "stdout",
          "output_type": "stream",
          "text": [
            "Model: \"model_6\"\n",
            "__________________________________________________________________________________________________\n",
            " Layer (type)                   Output Shape         Param #     Connected to                     \n",
            "==================================================================================================\n",
            " input_7 (InputLayer)           [(None, 64, 64, 3)]  0           []                               \n",
            "                                                                                                  \n",
            " data_augmentation (Sequential)  (None, 64, 64, 3)   7           ['input_7[0][0]']                \n",
            "                                                                                                  \n",
            " patches_9 (Patches)            (None, None, 48)     0           ['data_augmentation[0][0]']      \n",
            "                                                                                                  \n",
            " patch_encoder_6 (PatchEncoder)  (None, 256, 64)     19520       ['patches_9[0][0]']              \n",
            "                                                                                                  \n",
            " layer_normalization_102 (Layer  (None, 256, 64)     128         ['patch_encoder_6[0][0]']        \n",
            " Normalization)                                                                                   \n",
            "                                                                                                  \n",
            " multi_head_attention_48 (Multi  (None, 256, 64)     66368       ['layer_normalization_102[0][0]',\n",
            " HeadAttention)                                                   'layer_normalization_102[0][0]']\n",
            "                                                                                                  \n",
            " add_96 (Add)                   (None, 256, 64)      0           ['multi_head_attention_48[0][0]',\n",
            "                                                                  'patch_encoder_6[0][0]']        \n",
            "                                                                                                  \n",
            " layer_normalization_103 (Layer  (None, 256, 64)     128         ['add_96[0][0]']                 \n",
            " Normalization)                                                                                   \n",
            "                                                                                                  \n",
            " dense_121 (Dense)              (None, 256, 128)     8320        ['layer_normalization_103[0][0]']\n",
            "                                                                                                  \n",
            " dropout_114 (Dropout)          (None, 256, 128)     0           ['dense_121[0][0]']              \n",
            "                                                                                                  \n",
            " dense_122 (Dense)              (None, 256, 64)      8256        ['dropout_114[0][0]']            \n",
            "                                                                                                  \n",
            " dropout_115 (Dropout)          (None, 256, 64)      0           ['dense_122[0][0]']              \n",
            "                                                                                                  \n",
            " add_97 (Add)                   (None, 256, 64)      0           ['dropout_115[0][0]',            \n",
            "                                                                  'add_96[0][0]']                 \n",
            "                                                                                                  \n",
            " layer_normalization_104 (Layer  (None, 256, 64)     128         ['add_97[0][0]']                 \n",
            " Normalization)                                                                                   \n",
            "                                                                                                  \n",
            " multi_head_attention_49 (Multi  (None, 256, 64)     66368       ['layer_normalization_104[0][0]',\n",
            " HeadAttention)                                                   'layer_normalization_104[0][0]']\n",
            "                                                                                                  \n",
            " add_98 (Add)                   (None, 256, 64)      0           ['multi_head_attention_49[0][0]',\n",
            "                                                                  'add_97[0][0]']                 \n",
            "                                                                                                  \n",
            " layer_normalization_105 (Layer  (None, 256, 64)     128         ['add_98[0][0]']                 \n",
            " Normalization)                                                                                   \n",
            "                                                                                                  \n",
            " dense_123 (Dense)              (None, 256, 128)     8320        ['layer_normalization_105[0][0]']\n",
            "                                                                                                  \n",
            " dropout_116 (Dropout)          (None, 256, 128)     0           ['dense_123[0][0]']              \n",
            "                                                                                                  \n",
            " dense_124 (Dense)              (None, 256, 64)      8256        ['dropout_116[0][0]']            \n",
            "                                                                                                  \n",
            " dropout_117 (Dropout)          (None, 256, 64)      0           ['dense_124[0][0]']              \n",
            "                                                                                                  \n",
            " add_99 (Add)                   (None, 256, 64)      0           ['dropout_117[0][0]',            \n",
            "                                                                  'add_98[0][0]']                 \n",
            "                                                                                                  \n",
            " layer_normalization_106 (Layer  (None, 256, 64)     128         ['add_99[0][0]']                 \n",
            " Normalization)                                                                                   \n",
            "                                                                                                  \n",
            " multi_head_attention_50 (Multi  (None, 256, 64)     66368       ['layer_normalization_106[0][0]',\n",
            " HeadAttention)                                                   'layer_normalization_106[0][0]']\n",
            "                                                                                                  \n",
            " add_100 (Add)                  (None, 256, 64)      0           ['multi_head_attention_50[0][0]',\n",
            "                                                                  'add_99[0][0]']                 \n",
            "                                                                                                  \n",
            " layer_normalization_107 (Layer  (None, 256, 64)     128         ['add_100[0][0]']                \n",
            " Normalization)                                                                                   \n",
            "                                                                                                  \n",
            " dense_125 (Dense)              (None, 256, 128)     8320        ['layer_normalization_107[0][0]']\n",
            "                                                                                                  \n",
            " dropout_118 (Dropout)          (None, 256, 128)     0           ['dense_125[0][0]']              \n",
            "                                                                                                  \n",
            " dense_126 (Dense)              (None, 256, 64)      8256        ['dropout_118[0][0]']            \n",
            "                                                                                                  \n",
            " dropout_119 (Dropout)          (None, 256, 64)      0           ['dense_126[0][0]']              \n",
            "                                                                                                  \n",
            " add_101 (Add)                  (None, 256, 64)      0           ['dropout_119[0][0]',            \n",
            "                                                                  'add_100[0][0]']                \n",
            "                                                                                                  \n",
            " layer_normalization_108 (Layer  (None, 256, 64)     128         ['add_101[0][0]']                \n",
            " Normalization)                                                                                   \n",
            "                                                                                                  \n",
            " multi_head_attention_51 (Multi  (None, 256, 64)     66368       ['layer_normalization_108[0][0]',\n",
            " HeadAttention)                                                   'layer_normalization_108[0][0]']\n",
            "                                                                                                  \n",
            " add_102 (Add)                  (None, 256, 64)      0           ['multi_head_attention_51[0][0]',\n",
            "                                                                  'add_101[0][0]']                \n",
            "                                                                                                  \n",
            " layer_normalization_109 (Layer  (None, 256, 64)     128         ['add_102[0][0]']                \n",
            " Normalization)                                                                                   \n",
            "                                                                                                  \n",
            " dense_127 (Dense)              (None, 256, 128)     8320        ['layer_normalization_109[0][0]']\n",
            "                                                                                                  \n",
            " dropout_120 (Dropout)          (None, 256, 128)     0           ['dense_127[0][0]']              \n",
            "                                                                                                  \n",
            " dense_128 (Dense)              (None, 256, 64)      8256        ['dropout_120[0][0]']            \n",
            "                                                                                                  \n",
            " dropout_121 (Dropout)          (None, 256, 64)      0           ['dense_128[0][0]']              \n",
            "                                                                                                  \n",
            " add_103 (Add)                  (None, 256, 64)      0           ['dropout_121[0][0]',            \n",
            "                                                                  'add_102[0][0]']                \n",
            "                                                                                                  \n",
            " layer_normalization_110 (Layer  (None, 256, 64)     128         ['add_103[0][0]']                \n",
            " Normalization)                                                                                   \n",
            "                                                                                                  \n",
            " flatten_6 (Flatten)            (None, 16384)        0           ['layer_normalization_110[0][0]']\n",
            "                                                                                                  \n",
            " dropout_122 (Dropout)          (None, 16384)        0           ['flatten_6[0][0]']              \n",
            "                                                                                                  \n",
            " dense_129 (Dense)              (None, 100)          1638500     ['dropout_122[0][0]']            \n",
            "                                                                                                  \n",
            " dropout_123 (Dropout)          (None, 100)          0           ['dense_129[0][0]']              \n",
            "                                                                                                  \n",
            " dense_130 (Dense)              (None, 100)          10100       ['dropout_123[0][0]']            \n",
            "                                                                                                  \n",
            " dropout_124 (Dropout)          (None, 100)          0           ['dense_130[0][0]']              \n",
            "                                                                                                  \n",
            " dense_131 (Dense)              (None, 515)          52015       ['dropout_124[0][0]']            \n",
            "                                                                                                  \n",
            "==================================================================================================\n",
            "Total params: 2,053,070\n",
            "Trainable params: 2,053,063\n",
            "Non-trainable params: 7\n",
            "__________________________________________________________________________________________________\n"
          ]
        }
      ],
      "source": [
        "vit_classifier.summary()"
      ]
    },
    {
      "cell_type": "code",
      "execution_count": 59,
      "metadata": {},
      "outputs": [
        {
          "name": "stderr",
          "output_type": "stream",
          "text": [
            "WARNING:absl:Found untraced functions such as _update_step_xla, dense_160_layer_call_fn, dense_160_layer_call_and_return_conditional_losses, embedding_10_layer_call_fn, embedding_10_layer_call_and_return_conditional_losses while saving (showing 5 of 29). These functions will not be directly callable after loading.\n"
          ]
        },
        {
          "name": "stdout",
          "output_type": "stream",
          "text": [
            "INFO:tensorflow:Assets written to: Models/ViT_64_64\\assets\n"
          ]
        },
        {
          "name": "stderr",
          "output_type": "stream",
          "text": [
            "INFO:tensorflow:Assets written to: Models/ViT_64_64\\assets\n"
          ]
        }
      ],
      "source": [
        "vit_classifier.save(\"Models/ViT_64_64\")"
      ]
    },
    {
      "cell_type": "code",
      "execution_count": 78,
      "metadata": {},
      "outputs": [
        {
          "name": "stderr",
          "output_type": "stream",
          "text": [
            "WARNING:absl:Function `_wrapped_model` contains input name(s) vit-b32_input with unsupported characters which will be renamed to vit_b32_input in the SavedModel.\n",
            "WARNING:absl:`vit-b32_input` is not a valid tf.function parameter name. Sanitizing to `vit_b32_input`.\n",
            "WARNING:absl:`vit-b32_input` is not a valid tf.function parameter name. Sanitizing to `vit_b32_input`.\n",
            "WARNING:absl:`vit-b32_input` is not a valid tf.function parameter name. Sanitizing to `vit_b32_input`.\n",
            "WARNING:absl:Found untraced functions such as _jit_compiled_convolution_op, MultiHeadDotProductAttention_1_layer_call_fn, MultiHeadDotProductAttention_1_layer_call_and_return_conditional_losses, LayerNorm_0_layer_call_fn, LayerNorm_0_layer_call_and_return_conditional_losses while saving (showing 5 of 193). These functions will not be directly callable after loading.\n"
          ]
        },
        {
          "name": "stdout",
          "output_type": "stream",
          "text": [
            "INFO:tensorflow:Assets written to: Models/ViT_B32_Transfer\\assets\n"
          ]
        },
        {
          "name": "stderr",
          "output_type": "stream",
          "text": [
            "INFO:tensorflow:Assets written to: Models/ViT_B32_Transfer\\assets\n"
          ]
        }
      ],
      "source": [
        "model.save(\"Models/ViT_B32_Transfer\")"
      ]
    }
  ],
  "metadata": {
    "colab": {
      "provenance": []
    },
    "kernelspec": {
      "display_name": ".venv",
      "language": "python",
      "name": "python3"
    },
    "language_info": {
      "codemirror_mode": {
        "name": "ipython",
        "version": 3
      },
      "file_extension": ".py",
      "mimetype": "text/x-python",
      "name": "python",
      "nbconvert_exporter": "python",
      "pygments_lexer": "ipython3",
      "version": "3.11.2"
    },
    "vscode": {
      "interpreter": {
        "hash": "9dc1d70836e5a95e3204c03be21c6813859f635fe71550fdedfb37e988ddfb3d"
      }
    }
  },
  "nbformat": 4,
  "nbformat_minor": 0
}
